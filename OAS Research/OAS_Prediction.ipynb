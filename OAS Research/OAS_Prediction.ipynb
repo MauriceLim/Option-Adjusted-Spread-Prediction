{
 "cells": [
  {
   "cell_type": "code",
   "execution_count": 102,
   "id": "8eb3cd7e-c6f2-46ac-b719-33f715dbed38",
   "metadata": {
    "tags": []
   },
   "outputs": [],
   "source": [
    "import numpy as np\n",
    "import pandas as pd\n",
    "import random\n",
    "import sklearn\n",
    "import tensorflow as tf\n",
    "import time\n",
    "import warnings\n",
    "import matplotlib.pyplot as plt\n",
    "\n",
    "from keras.layers import Dropout\n",
    "from keras.regularizers import l1, l2\n",
    "from keras.utils import to_categorical\n",
    "from sklearn.linear_model import LogisticRegression\n",
    "from sklearn.metrics import accuracy_score, roc_auc_score, precision_score, recall_score, f1_score, roc_curve, make_scorer\n",
    "from sklearn.model_selection import GridSearchCV, KFold, train_test_split\n",
    "from sklearn.preprocessing import LabelBinarizer, label_binarize\n",
    "from tensorflow.keras.layers import Dense\n",
    "from tensorflow.keras.models import Sequential\n",
    "from tensorflow.keras.optimizers import Adam\n",
    "from tensorflow.keras.regularizers import l1_l2\n",
    "from xgboost import XGBClassifier\n"
   ]
  },
  {
   "cell_type": "code",
   "execution_count": 103,
   "id": "73cc2413",
   "metadata": {},
   "outputs": [],
   "source": [
    "df_weekly_Spread = pd.read_excel(r\"C:\\Users\\yhlim\\Desktop\\Spread Weekly.xlsx\", sheet_name = 'Spread')\n",
    "df_weekly_NFCI = pd.read_excel(r\"C:\\Users\\yhlim\\Desktop\\Spread Weekly.xlsx\", sheet_name = 'NFCI')\n",
    "df_daily_VIX = pd.read_excel(r\"C:\\Users\\yhlim\\Desktop\\Econ daily.xlsx\", sheet_name = 'VIX')\n",
    "df_daily_SP500 = pd.read_excel(r\"C:\\Users\\yhlim\\Desktop\\Econ daily.xlsx\",sheet_name = 'S&P')\n",
    "df_daily_UST = pd.read_excel(r\"C:\\Users\\yhlim\\Desktop\\Econ daily.xlsx\",sheet_name = 'UST')\n",
    "\n",
    "# Convert 'Date' columns to datetime\n",
    "df_weekly_Spread['Date'] = pd.to_datetime(df_weekly_Spread['Date'])\n",
    "df_weekly_NFCI['Date'] = pd.to_datetime(df_weekly_NFCI['Date'])\n",
    "\n",
    "# Sort dataframes by 'Date'\n",
    "df_weekly_Spread = df_weekly_Spread.sort_values('Date')\n",
    "df_weekly_NFCI = df_weekly_NFCI.sort_values('Date')\n",
    "\n",
    "# Perform the asof merge\n",
    "df_merged_weekly = pd.merge_asof(df_weekly_Spread, df_weekly_NFCI, on='Date', direction='backward')\n",
    "\n",
    "# Merge daily data with weekly data\n",
    "df_final = pd.merge(df_merged_weekly, df_daily_VIX, on='Date', how='left')\n",
    "df_final = pd.merge(df_final, df_daily_SP500, on='Date', how='left')\n",
    "df_final = pd.merge(df_final, df_daily_UST, on='Date', how='left')\n",
    "\n",
    "#drop the first 3 rows first because there's no complete month in January \n",
    "df_final = df_final.iloc[3:]\n",
    "df_final['Rolling_SD'] = df_final['LN_Change'].rolling(window=4).std()\n",
    "df_final['SD_Multiplier'] = df_final['LN_Change'] / df_final['Rolling_SD']\n",
    "df_final['Market_State'] = 'Hold'\n",
    "df_final.loc[df_final['SD_Multiplier'] > 1.5, 'Market_State']= \"Widen\"\n",
    "df_final.loc[df_final['SD_Multiplier'] < -1.5, 'Market_State']= \"Tighten\"\n",
    "\n",
    "df_final = df_final[['Date', 'Market_State','H0A0','Spread_Slope','IG_HYM','AAA_HYM','AA_HYM','A_HYM','BBB_HYM','T_5WkAAA','T_5WkAA','T_5WkA','T_5WkBBB','NFCI','VIX','Adj Close','Alpha 12','DGS3MO','DGS1','DGS2','DGS3','DGS5','DGS7','DGS10']]\n",
    "df_final = df_final.dropna()\n"
   ]
  },
  {
   "cell_type": "markdown",
   "id": "4be2ad48",
   "metadata": {},
   "source": [
    "### Apply PCA on UST "
   ]
  },
  {
   "cell_type": "code",
   "execution_count": 104,
   "id": "d57970a6",
   "metadata": {},
   "outputs": [
    {
     "name": "stdout",
     "output_type": "stream",
     "text": [
      "Explained variance ratio: [0.94740981 0.04841384 0.00355834]\n"
     ]
    }
   ],
   "source": [
    "from sklearn.preprocessing import StandardScaler\n",
    "from sklearn.decomposition import PCA\n",
    "\n",
    "# Select the columns for PCA\n",
    "features_for_pca = df_final[['DGS3MO', 'DGS1', 'DGS2', 'DGS3', 'DGS5', 'DGS7', 'DGS10']]\n",
    "\n",
    "# Standardize the data\n",
    "scaler = StandardScaler()\n",
    "features_scaled = scaler.fit_transform(features_for_pca)\n",
    "\n",
    "# Perform PCA\n",
    "pca = PCA(n_components=3)  # Choose the number of components that explain 95% of variance\n",
    "principal_components = pca.fit_transform(features_scaled)\n",
    "\n",
    "# Create a DataFrame with the principal components\n",
    "pca_df = pd.DataFrame(data=principal_components, columns=[f'PC_UST{i+1}' for i in range(principal_components.shape[1])])\n",
    "\n",
    "print(f'Explained variance ratio: {pca.explained_variance_ratio_}')\n",
    "\n",
    "# Ensure indices are aligned\n",
    "df_final = df_final.reset_index(drop=True)\n",
    "pca_df = pca_df.reset_index(drop=True)\n",
    "\n",
    "# Add the PCA components to the main dataframe\n",
    "df_final_pca = pd.concat([df_final, pca_df], axis=1)\n",
    "\n",
    "# Optionally drop the original highly correlated columns\n",
    "df_final_pca = df_final_pca.drop(columns=['DGS3MO', 'DGS1', 'DGS2', 'DGS3', 'DGS5', 'DGS7', 'DGS10'])"
   ]
  },
  {
   "cell_type": "markdown",
   "id": "c320b1dc",
   "metadata": {},
   "source": [
    "### Apply PCA on Trailing 5 week data"
   ]
  },
  {
   "cell_type": "code",
   "execution_count": 105,
   "id": "c1139035",
   "metadata": {},
   "outputs": [
    {
     "name": "stdout",
     "output_type": "stream",
     "text": [
      "Explained variance ratio: [0.90047429 0.06455711 0.02338131]\n"
     ]
    }
   ],
   "source": [
    "# Extract the spreads\n",
    "spreads = df_final_pca[['T_5WkAAA', 'T_5WkAA', 'T_5WkA', 'T_5WkBBB']]\n",
    "\n",
    "# Standardize the data\n",
    "scaler = StandardScaler()\n",
    "spreads_scaled = scaler.fit_transform(spreads)\n",
    "\n",
    "# Apply PCA\n",
    "pca = PCA(n_components=3)  # Choose the number of components you want\n",
    "pca_components = pca.fit_transform(spreads_scaled)\n",
    "\n",
    "# Create a DataFrame with PCA components\n",
    "pca_df = pd.DataFrame(data=pca_components, columns=[f'PC_T5Wk{i+1}' for i in range(pca_components.shape[1])])\n",
    "print(f'Explained variance ratio: {pca.explained_variance_ratio_}')\n",
    "\n",
    "\n",
    "# Combine PCA components with the original dataframe\n",
    "df_final_pca = pd.concat([df_final_pca, pca_df], axis=1)\n",
    "\n",
    "df_final_pca = df_final_pca.drop(columns=['T_5WkAAA', 'T_5WkAA', 'T_5WkA', 'T_5WkBBB'])\n"
   ]
  },
  {
   "cell_type": "markdown",
   "id": "0f402d9c",
   "metadata": {},
   "source": [
    "### Apply PCA on IG_HYM/ AAA_HYM etc."
   ]
  },
  {
   "cell_type": "code",
   "execution_count": 106,
   "id": "6cb3ba1f",
   "metadata": {},
   "outputs": [],
   "source": [
    "# Extract the spreads\n",
    "spreads = df_final_pca[['H0A0','IG_HYM', 'AAA_HYM', 'AA_HYM', 'A_HYM', 'BBB_HYM']]\n",
    "\n",
    "# Standardize the data\n",
    "scaler = StandardScaler()\n",
    "spreads_scaled = scaler.fit_transform(spreads)\n",
    "\n",
    "# Apply PCA\n",
    "pca = PCA(n_components=3)  # Choose the number of components you want\n",
    "pca_components = pca.fit_transform(spreads_scaled)\n",
    "\n",
    "# Create a DataFrame with PCA components\n",
    "pca_df = pd.DataFrame(data=pca_components, columns=[f'PC_Diff{i+1}' for i in range(pca_components.shape[1])])\n",
    "\n",
    "# Combine PCA components with the original dataframe\n",
    "df_final_pca = pd.concat([df_final_pca, pca_df], axis=1)\n",
    "\n",
    "df_final_pca = df_final_pca.drop(columns=['H0A0','IG_HYM', 'AAA_HYM', 'AA_HYM', 'A_HYM', 'BBB_HYM'])\n"
   ]
  },
  {
   "cell_type": "markdown",
   "id": "28997c37",
   "metadata": {},
   "source": [
    "#  Feature Importance Analysis"
   ]
  },
  {
   "cell_type": "code",
   "execution_count": 107,
   "id": "362f7e53",
   "metadata": {},
   "outputs": [
    {
     "data": {
      "image/png": "[encoded data removed]",
      "text/plain": [
       "<Figure size 1200x600 with 1 Axes>"
      ]
     },
     "metadata": {},
     "output_type": "display_data"
    }
   ],
   "source": [
    "\n",
    "# Map labels from -1, 0, 1 to 0, 1, 2\n",
    "label_mapping = {'Tighten': 0, 'Hold': 1, 'Widen': 2}\n",
    "\n",
    "df_final_pca['Market_State'] = df_final_pca['Market_State'].map(label_mapping)\n",
    "\n",
    "# Select features and label\n",
    "data_features = df_final_pca[['Spread_Slope','NFCI','VIX','Adj Close','Alpha 12','PC_UST1','PC_UST2','PC_UST3','PC_T5Wk1','PC_T5Wk2','PC_Diff1','PC_Diff2','PC_Diff3']]\n",
    "data_label = df_final_pca['Market_State']\n",
    "\n",
    "# Initialize XGBClassifier with appropriate multi-class settings\n",
    "xgb_clf = XGBClassifier(\n",
    "    eval_metric='mlogloss',\n",
    "    random_state=4,\n",
    "    enable_categorical=True,\n",
    "    objective='multi:softprob',  # Using probabilities for flexible post-processing\n",
    "    num_class=3\n",
    ")\n",
    "\n",
    "# Fit the classifier to the training set\n",
    "xgb_clf.fit(data_features, data_label)\n",
    "\n",
    "# Get feature importances\n",
    "feature_importances = xgb_clf.feature_importances_\n",
    "\n",
    "# Create a pandas series with the feature importances\n",
    "importances = pd.Series(feature_importances, index=data_features.columns)\n",
    "\n",
    "# Sort the feature importances in descending order\n",
    "sorted_importances = importances.sort_values(ascending=False)\n",
    "\n",
    "# Plot the sorted feature importances\n",
    "plt.figure(figsize=(12, 6))\n",
    "sorted_importances.plot(kind='bar')\n",
    "plt.title(f'Feature Importances in XGBClassifier for IG OAS Index')\n",
    "plt.show()\n",
    "\n",
    "# Optionally, revert labels in df for further analysis or use\n",
    "#df_final_pca['Market_State'] = df_final_pca['Market_State'].map({v: k for k, v in label_mapping.items()})\n"
   ]
  },
  {
   "cell_type": "markdown",
   "id": "cabe00ab",
   "metadata": {},
   "source": [
    "# Comparative Analysis of Machine Learning Models"
   ]
  },
  {
   "cell_type": "markdown",
   "id": "5d144408",
   "metadata": {},
   "source": [
    "## 1.) `Logistic Regression`"
   ]
  },
  {
   "cell_type": "code",
   "execution_count": 108,
   "id": "5c49141e",
   "metadata": {},
   "outputs": [
    {
     "name": "stderr",
     "output_type": "stream",
     "text": [
      "c:\\Users\\yhlim\\AppData\\Local\\Programs\\Python\\Python311\\Lib\\site-packages\\sklearn\\linear_model\\_logistic.py:469: ConvergenceWarning: lbfgs failed to converge (status=1):\n",
      "STOP: TOTAL NO. of ITERATIONS REACHED LIMIT.\n",
      "\n",
      "Increase the number of iterations (max_iter) or scale the data as shown in:\n",
      "    https://scikit-learn.org/stable/modules/preprocessing.html\n",
      "Please also refer to the documentation for alternative solver options:\n",
      "    https://scikit-learn.org/stable/modules/linear_model.html#logistic-regression\n",
      "  n_iter_i = _check_optimize_result(\n"
     ]
    },
    {
     "data": {
      "image/png": "[encoded data removed]",
      "text/plain": [
       "<Figure size 1000x800 with 1 Axes>"
      ]
     },
     "metadata": {},
     "output_type": "display_data"
    }
   ],
   "source": [
    "# Initialize a matplotlib figure for ROC curves\n",
    "plt.figure(figsize=(10, 8))\n",
    "split_date = '2023-01-09'\n",
    "df_final_pca.set_index('Date', inplace = True) \n",
    "train_data = df_final_pca[df_final_pca.index < split_date]\n",
    "test_data = df_final_pca[df_final_pca.index >= split_date]\n",
    "\n",
    "X_train = train_data.drop(columns=['Market_State'])\n",
    "y_train = train_data['Market_State']\n",
    "X_test = test_data.drop(columns=['Market_State'])\n",
    "y_test = test_data['Market_State']\n",
    "\n",
    "# Create and train the multinomial logistic regression model\n",
    "model = LogisticRegression(solver='lbfgs', max_iter=1000)\n",
    "model.fit(X_train, y_train)\n",
    "\n",
    "# Since the predict_proba gives us the probability for each class, we will use it to compute the ROC AUC\n",
    "lb = LabelBinarizer()\n",
    "lb.fit(y_train)\n",
    "y_test_binarized = lb.transform(y_test)\n",
    "\n",
    "# Predict probabilities for AUC-ROC\n",
    "y_test_prob = model.predict_proba(X_test)\n",
    "\n",
    "# Compute ROC curve and ROC area for each class\n",
    "fpr = dict()\n",
    "tpr = dict()\n",
    "roc_auc = dict()\n",
    "for i, class_label in enumerate(lb.classes_):\n",
    "    fpr[i], tpr[i], _ = roc_curve(y_test_binarized[:, i], y_test_prob[:, i])\n",
    "    roc_auc[i] = roc_auc_score(y_test_binarized[:, i], y_test_prob[:, i])\n",
    "\n",
    "    # Modify the label to include the stock symbol\n",
    "    plt.plot(fpr[i], tpr[i], lw=2, label=f'OAS ROC curve of class {class_label} (area = {roc_auc[i]:0.2f})')\n",
    "\n",
    "# Plot all ROC curves\n",
    "plt.plot([0, 1], [0, 1], 'k--', lw=2)\n",
    "plt.xlim([0.0, 1.0])\n",
    "plt.ylim([0.0, 1.05])\n",
    "plt.xlabel('False Positive Rate')\n",
    "plt.ylabel('True Positive Rate')\n",
    "plt.title('Receiver Operating Characteristic to multi-class')\n",
    "plt.legend(loc=\"lower right\")\n",
    "plt.show()"
   ]
  },
  {
   "cell_type": "code",
   "execution_count": 109,
   "id": "406619cb",
   "metadata": {},
   "outputs": [
    {
     "name": "stdout",
     "output_type": "stream",
     "text": [
      "OAS: C0A0\n",
      "Accuracy: 0.7879\n",
      "AUC-ROC: 0.6862\n",
      "Precision: 0.3810\n",
      "Recall: 0.3541\n",
      "------------------------------\n"
     ]
    },
    {
     "name": "stderr",
     "output_type": "stream",
     "text": [
      "c:\\Users\\yhlim\\AppData\\Local\\Programs\\Python\\Python311\\Lib\\site-packages\\sklearn\\linear_model\\_logistic.py:469: ConvergenceWarning: lbfgs failed to converge (status=1):\n",
      "STOP: TOTAL NO. of ITERATIONS REACHED LIMIT.\n",
      "\n",
      "Increase the number of iterations (max_iter) or scale the data as shown in:\n",
      "    https://scikit-learn.org/stable/modules/preprocessing.html\n",
      "Please also refer to the documentation for alternative solver options:\n",
      "    https://scikit-learn.org/stable/modules/linear_model.html#logistic-regression\n",
      "  n_iter_i = _check_optimize_result(\n",
      "c:\\Users\\yhlim\\AppData\\Local\\Programs\\Python\\Python311\\Lib\\site-packages\\sklearn\\metrics\\_classification.py:1517: UndefinedMetricWarning: Precision is ill-defined and being set to 0.0 in labels with no predicted samples. Use `zero_division` parameter to control this behavior.\n",
      "  _warn_prf(average, modifier, f\"{metric.capitalize()} is\", len(result))\n"
     ]
    }
   ],
   "source": [
    "\n",
    "# Create and train the multinomial logistic regression model\n",
    "model = LogisticRegression(solver='lbfgs', max_iter=1000)\n",
    "model.fit(X_train, y_train)\n",
    "\n",
    "# Predict on the test set\n",
    "y_pred_log = model.predict(X_test)\n",
    "\n",
    "# Calculate accuracy\n",
    "accuracy = accuracy_score(y_test, y_pred_log)\n",
    "\n",
    "# Transform labels for binary classification metrics calculation\n",
    "lb = LabelBinarizer()\n",
    "lb.fit(y_train)\n",
    "y_test_binarized = lb.transform(y_test)\n",
    "y_pred_binarized = lb.transform(y_pred_log)\n",
    "\n",
    "# Predict probabilities for AUC-ROC\n",
    "y_test_prob = model.predict_proba(X_test)\n",
    "\n",
    "# Compute AUC-ROC - assuming binary classification or one-vs-rest for multi-class\n",
    "auc_roc = roc_auc_score(y_test_binarized, y_test_prob, average='macro')\n",
    "\n",
    "# Compute precision and recall - assuming average for multi-class\n",
    "precision = precision_score(y_test, y_pred_log, average='macro')\n",
    "recall = recall_score(y_test, y_pred_log, average='macro')\n",
    "\n",
    "# Print the metrics for each stock\n",
    "print(f\"OAS: C0A0\")\n",
    "print(f\"Accuracy: {accuracy:.4f}\")\n",
    "print(f\"AUC-ROC: {auc_roc:.4f}\")\n",
    "print(f\"Precision: {precision:.4f}\")\n",
    "print(f\"Recall: {recall:.4f}\")\n",
    "print(\"-\" * 30)"
   ]
  },
  {
   "cell_type": "markdown",
   "id": "e8df29d3",
   "metadata": {},
   "source": [
    "## 2.) `Neural Network`"
   ]
  },
  {
   "cell_type": "code",
   "execution_count": 110,
   "id": "37854359",
   "metadata": {},
   "outputs": [],
   "source": [
    "# setting seed\n",
    "def set_seeds(seed=100):\n",
    "    random.seed(seed)\n",
    "    np.random.seed(seed)\n",
    "    tf.random.set_seed(seed)"
   ]
  },
  {
   "cell_type": "code",
   "execution_count": 111,
   "id": "96ef0a01",
   "metadata": {},
   "outputs": [],
   "source": [
    "set_seeds()"
   ]
  },
  {
   "cell_type": "code",
   "execution_count": 112,
   "id": "755562a2",
   "metadata": {},
   "outputs": [
    {
     "name": "stderr",
     "output_type": "stream",
     "text": [
      "c:\\Users\\yhlim\\AppData\\Local\\Programs\\Python\\Python311\\Lib\\site-packages\\keras\\src\\layers\\core\\dense.py:87: UserWarning: Do not pass an `input_shape`/`input_dim` argument to a layer. When using Sequential models, prefer using an `Input(shape)` object as the first layer in the model instead.\n",
      "  super().__init__(activity_regularizer=activity_regularizer, **kwargs)\n"
     ]
    },
    {
     "data": {
      "text/plain": [
       "<keras.src.callbacks.history.History at 0x1a5b7cb5fd0>"
      ]
     },
     "execution_count": 112,
     "metadata": {},
     "output_type": "execute_result"
    }
   ],
   "source": [
    "model1 = Sequential()\n",
    "model1.add(Dense(64, input_dim=X_train.shape[1], activation='relu'))\n",
    "model1.add(Dense(32, activation='relu'))\n",
    "model1.add(Dense(16, activation='relu'))\n",
    "model1.add(Dense(3, activation='softmax'))  \n",
    "model1.compile(loss='categorical_crossentropy', optimizer='adam', metrics=['accuracy'])\n",
    "\n",
    "# One-hot encoding of the labels\n",
    "y_train_encoded = to_categorical(y_train, num_classes=3)\n",
    "y_test_encoded = to_categorical(y_test, num_classes=3)\n",
    "\n",
    "# Fit the model with the encoded labels\n",
    "model1.fit(X_train, y_train_encoded, epochs=10, verbose=False)\n"
   ]
  },
  {
   "cell_type": "code",
   "execution_count": 113,
   "id": "4aed776e",
   "metadata": {},
   "outputs": [
    {
     "name": "stdout",
     "output_type": "stream",
     "text": [
      "Accuracy: 0.3484848439693451\n"
     ]
    }
   ],
   "source": [
    "# Evaluate the model on the test set\n",
    "accuracy = model1.evaluate(X_test, y_test_encoded, verbose=False)\n",
    "\n",
    "print(f'Accuracy: {accuracy[1]}')\n"
   ]
  },
  {
   "cell_type": "markdown",
   "id": "ae69e98a",
   "metadata": {},
   "source": [
    "### Hyperparameter tuning: epochs, learing_rates, batch_sizes"
   ]
  },
  {
   "cell_type": "code",
   "execution_count": 114,
   "id": "f50c5b16",
   "metadata": {},
   "outputs": [
    {
     "name": "stderr",
     "output_type": "stream",
     "text": [
      "c:\\Users\\yhlim\\AppData\\Local\\Programs\\Python\\Python311\\Lib\\site-packages\\keras\\src\\layers\\core\\dense.py:87: UserWarning: Do not pass an `input_shape`/`input_dim` argument to a layer. When using Sequential models, prefer using an `Input(shape)` object as the first layer in the model instead.\n",
      "  super().__init__(activity_regularizer=activity_regularizer, **kwargs)\n"
     ]
    },
    {
     "name": "stdout",
     "output_type": "stream",
     "text": [
      "Epochs: 5, Learning Rate: 0.0001, Batch Size: 256, Accuracy: 0.7727\n"
     ]
    },
    {
     "name": "stderr",
     "output_type": "stream",
     "text": [
      "c:\\Users\\yhlim\\AppData\\Local\\Programs\\Python\\Python311\\Lib\\site-packages\\keras\\src\\layers\\core\\dense.py:87: UserWarning: Do not pass an `input_shape`/`input_dim` argument to a layer. When using Sequential models, prefer using an `Input(shape)` object as the first layer in the model instead.\n",
      "  super().__init__(activity_regularizer=activity_regularizer, **kwargs)\n"
     ]
    },
    {
     "name": "stdout",
     "output_type": "stream",
     "text": [
      "Epochs: 5, Learning Rate: 0.0001, Batch Size: 512, Accuracy: 0.8030\n"
     ]
    },
    {
     "name": "stderr",
     "output_type": "stream",
     "text": [
      "c:\\Users\\yhlim\\AppData\\Local\\Programs\\Python\\Python311\\Lib\\site-packages\\keras\\src\\layers\\core\\dense.py:87: UserWarning: Do not pass an `input_shape`/`input_dim` argument to a layer. When using Sequential models, prefer using an `Input(shape)` object as the first layer in the model instead.\n",
      "  super().__init__(activity_regularizer=activity_regularizer, **kwargs)\n"
     ]
    },
    {
     "name": "stdout",
     "output_type": "stream",
     "text": [
      "Epochs: 5, Learning Rate: 0.0001, Batch Size: 1024, Accuracy: 0.0606\n"
     ]
    },
    {
     "name": "stderr",
     "output_type": "stream",
     "text": [
      "c:\\Users\\yhlim\\AppData\\Local\\Programs\\Python\\Python311\\Lib\\site-packages\\keras\\src\\layers\\core\\dense.py:87: UserWarning: Do not pass an `input_shape`/`input_dim` argument to a layer. When using Sequential models, prefer using an `Input(shape)` object as the first layer in the model instead.\n",
      "  super().__init__(activity_regularizer=activity_regularizer, **kwargs)\n"
     ]
    },
    {
     "name": "stdout",
     "output_type": "stream",
     "text": [
      "Epochs: 5, Learning Rate: 0.0005, Batch Size: 256, Accuracy: 0.7879\n"
     ]
    },
    {
     "name": "stderr",
     "output_type": "stream",
     "text": [
      "c:\\Users\\yhlim\\AppData\\Local\\Programs\\Python\\Python311\\Lib\\site-packages\\keras\\src\\layers\\core\\dense.py:87: UserWarning: Do not pass an `input_shape`/`input_dim` argument to a layer. When using Sequential models, prefer using an `Input(shape)` object as the first layer in the model instead.\n",
      "  super().__init__(activity_regularizer=activity_regularizer, **kwargs)\n"
     ]
    },
    {
     "name": "stdout",
     "output_type": "stream",
     "text": [
      "Epochs: 5, Learning Rate: 0.0005, Batch Size: 512, Accuracy: 0.8030\n"
     ]
    },
    {
     "name": "stderr",
     "output_type": "stream",
     "text": [
      "c:\\Users\\yhlim\\AppData\\Local\\Programs\\Python\\Python311\\Lib\\site-packages\\keras\\src\\layers\\core\\dense.py:87: UserWarning: Do not pass an `input_shape`/`input_dim` argument to a layer. When using Sequential models, prefer using an `Input(shape)` object as the first layer in the model instead.\n",
      "  super().__init__(activity_regularizer=activity_regularizer, **kwargs)\n"
     ]
    },
    {
     "name": "stdout",
     "output_type": "stream",
     "text": [
      "Epochs: 5, Learning Rate: 0.0005, Batch Size: 1024, Accuracy: 0.8030\n"
     ]
    },
    {
     "name": "stderr",
     "output_type": "stream",
     "text": [
      "c:\\Users\\yhlim\\AppData\\Local\\Programs\\Python\\Python311\\Lib\\site-packages\\keras\\src\\layers\\core\\dense.py:87: UserWarning: Do not pass an `input_shape`/`input_dim` argument to a layer. When using Sequential models, prefer using an `Input(shape)` object as the first layer in the model instead.\n",
      "  super().__init__(activity_regularizer=activity_regularizer, **kwargs)\n"
     ]
    },
    {
     "name": "stdout",
     "output_type": "stream",
     "text": [
      "Epochs: 5, Learning Rate: 0.001, Batch Size: 256, Accuracy: 0.1667\n"
     ]
    },
    {
     "name": "stderr",
     "output_type": "stream",
     "text": [
      "c:\\Users\\yhlim\\AppData\\Local\\Programs\\Python\\Python311\\Lib\\site-packages\\keras\\src\\layers\\core\\dense.py:87: UserWarning: Do not pass an `input_shape`/`input_dim` argument to a layer. When using Sequential models, prefer using an `Input(shape)` object as the first layer in the model instead.\n",
      "  super().__init__(activity_regularizer=activity_regularizer, **kwargs)\n"
     ]
    },
    {
     "name": "stdout",
     "output_type": "stream",
     "text": [
      "Epochs: 5, Learning Rate: 0.001, Batch Size: 512, Accuracy: 0.8030\n"
     ]
    },
    {
     "name": "stderr",
     "output_type": "stream",
     "text": [
      "c:\\Users\\yhlim\\AppData\\Local\\Programs\\Python\\Python311\\Lib\\site-packages\\keras\\src\\layers\\core\\dense.py:87: UserWarning: Do not pass an `input_shape`/`input_dim` argument to a layer. When using Sequential models, prefer using an `Input(shape)` object as the first layer in the model instead.\n",
      "  super().__init__(activity_regularizer=activity_regularizer, **kwargs)\n"
     ]
    },
    {
     "name": "stdout",
     "output_type": "stream",
     "text": [
      "Epochs: 5, Learning Rate: 0.001, Batch Size: 1024, Accuracy: 0.8030\n"
     ]
    },
    {
     "name": "stderr",
     "output_type": "stream",
     "text": [
      "c:\\Users\\yhlim\\AppData\\Local\\Programs\\Python\\Python311\\Lib\\site-packages\\keras\\src\\layers\\core\\dense.py:87: UserWarning: Do not pass an `input_shape`/`input_dim` argument to a layer. When using Sequential models, prefer using an `Input(shape)` object as the first layer in the model instead.\n",
      "  super().__init__(activity_regularizer=activity_regularizer, **kwargs)\n"
     ]
    },
    {
     "name": "stdout",
     "output_type": "stream",
     "text": [
      "Epochs: 5, Learning Rate: 0.005, Batch Size: 256, Accuracy: 0.8030\n"
     ]
    },
    {
     "name": "stderr",
     "output_type": "stream",
     "text": [
      "c:\\Users\\yhlim\\AppData\\Local\\Programs\\Python\\Python311\\Lib\\site-packages\\keras\\src\\layers\\core\\dense.py:87: UserWarning: Do not pass an `input_shape`/`input_dim` argument to a layer. When using Sequential models, prefer using an `Input(shape)` object as the first layer in the model instead.\n",
      "  super().__init__(activity_regularizer=activity_regularizer, **kwargs)\n"
     ]
    },
    {
     "name": "stdout",
     "output_type": "stream",
     "text": [
      "Epochs: 5, Learning Rate: 0.005, Batch Size: 512, Accuracy: 0.8030\n"
     ]
    },
    {
     "name": "stderr",
     "output_type": "stream",
     "text": [
      "c:\\Users\\yhlim\\AppData\\Local\\Programs\\Python\\Python311\\Lib\\site-packages\\keras\\src\\layers\\core\\dense.py:87: UserWarning: Do not pass an `input_shape`/`input_dim` argument to a layer. When using Sequential models, prefer using an `Input(shape)` object as the first layer in the model instead.\n",
      "  super().__init__(activity_regularizer=activity_regularizer, **kwargs)\n"
     ]
    },
    {
     "name": "stdout",
     "output_type": "stream",
     "text": [
      "Epochs: 5, Learning Rate: 0.005, Batch Size: 1024, Accuracy: 0.1515\n"
     ]
    },
    {
     "name": "stderr",
     "output_type": "stream",
     "text": [
      "c:\\Users\\yhlim\\AppData\\Local\\Programs\\Python\\Python311\\Lib\\site-packages\\keras\\src\\layers\\core\\dense.py:87: UserWarning: Do not pass an `input_shape`/`input_dim` argument to a layer. When using Sequential models, prefer using an `Input(shape)` object as the first layer in the model instead.\n",
      "  super().__init__(activity_regularizer=activity_regularizer, **kwargs)\n"
     ]
    },
    {
     "name": "stdout",
     "output_type": "stream",
     "text": [
      "Epochs: 5, Learning Rate: 0.01, Batch Size: 256, Accuracy: 0.8030\n"
     ]
    },
    {
     "name": "stderr",
     "output_type": "stream",
     "text": [
      "c:\\Users\\yhlim\\AppData\\Local\\Programs\\Python\\Python311\\Lib\\site-packages\\keras\\src\\layers\\core\\dense.py:87: UserWarning: Do not pass an `input_shape`/`input_dim` argument to a layer. When using Sequential models, prefer using an `Input(shape)` object as the first layer in the model instead.\n",
      "  super().__init__(activity_regularizer=activity_regularizer, **kwargs)\n"
     ]
    },
    {
     "name": "stdout",
     "output_type": "stream",
     "text": [
      "Epochs: 5, Learning Rate: 0.01, Batch Size: 512, Accuracy: 0.8030\n"
     ]
    },
    {
     "name": "stderr",
     "output_type": "stream",
     "text": [
      "c:\\Users\\yhlim\\AppData\\Local\\Programs\\Python\\Python311\\Lib\\site-packages\\keras\\src\\layers\\core\\dense.py:87: UserWarning: Do not pass an `input_shape`/`input_dim` argument to a layer. When using Sequential models, prefer using an `Input(shape)` object as the first layer in the model instead.\n",
      "  super().__init__(activity_regularizer=activity_regularizer, **kwargs)\n"
     ]
    },
    {
     "name": "stdout",
     "output_type": "stream",
     "text": [
      "Epochs: 5, Learning Rate: 0.01, Batch Size: 1024, Accuracy: 0.8030\n"
     ]
    },
    {
     "name": "stderr",
     "output_type": "stream",
     "text": [
      "c:\\Users\\yhlim\\AppData\\Local\\Programs\\Python\\Python311\\Lib\\site-packages\\keras\\src\\layers\\core\\dense.py:87: UserWarning: Do not pass an `input_shape`/`input_dim` argument to a layer. When using Sequential models, prefer using an `Input(shape)` object as the first layer in the model instead.\n",
      "  super().__init__(activity_regularizer=activity_regularizer, **kwargs)\n"
     ]
    },
    {
     "name": "stdout",
     "output_type": "stream",
     "text": [
      "Epochs: 10, Learning Rate: 0.0001, Batch Size: 256, Accuracy: 0.8030\n"
     ]
    },
    {
     "name": "stderr",
     "output_type": "stream",
     "text": [
      "c:\\Users\\yhlim\\AppData\\Local\\Programs\\Python\\Python311\\Lib\\site-packages\\keras\\src\\layers\\core\\dense.py:87: UserWarning: Do not pass an `input_shape`/`input_dim` argument to a layer. When using Sequential models, prefer using an `Input(shape)` object as the first layer in the model instead.\n",
      "  super().__init__(activity_regularizer=activity_regularizer, **kwargs)\n"
     ]
    },
    {
     "name": "stdout",
     "output_type": "stream",
     "text": [
      "Epochs: 10, Learning Rate: 0.0001, Batch Size: 512, Accuracy: 0.8030\n"
     ]
    },
    {
     "name": "stderr",
     "output_type": "stream",
     "text": [
      "c:\\Users\\yhlim\\AppData\\Local\\Programs\\Python\\Python311\\Lib\\site-packages\\keras\\src\\layers\\core\\dense.py:87: UserWarning: Do not pass an `input_shape`/`input_dim` argument to a layer. When using Sequential models, prefer using an `Input(shape)` object as the first layer in the model instead.\n",
      "  super().__init__(activity_regularizer=activity_regularizer, **kwargs)\n"
     ]
    },
    {
     "name": "stdout",
     "output_type": "stream",
     "text": [
      "Epochs: 10, Learning Rate: 0.0001, Batch Size: 1024, Accuracy: 0.8030\n"
     ]
    },
    {
     "name": "stderr",
     "output_type": "stream",
     "text": [
      "c:\\Users\\yhlim\\AppData\\Local\\Programs\\Python\\Python311\\Lib\\site-packages\\keras\\src\\layers\\core\\dense.py:87: UserWarning: Do not pass an `input_shape`/`input_dim` argument to a layer. When using Sequential models, prefer using an `Input(shape)` object as the first layer in the model instead.\n",
      "  super().__init__(activity_regularizer=activity_regularizer, **kwargs)\n"
     ]
    },
    {
     "name": "stdout",
     "output_type": "stream",
     "text": [
      "Epochs: 10, Learning Rate: 0.0005, Batch Size: 256, Accuracy: 0.7879\n"
     ]
    },
    {
     "name": "stderr",
     "output_type": "stream",
     "text": [
      "c:\\Users\\yhlim\\AppData\\Local\\Programs\\Python\\Python311\\Lib\\site-packages\\keras\\src\\layers\\core\\dense.py:87: UserWarning: Do not pass an `input_shape`/`input_dim` argument to a layer. When using Sequential models, prefer using an `Input(shape)` object as the first layer in the model instead.\n",
      "  super().__init__(activity_regularizer=activity_regularizer, **kwargs)\n"
     ]
    },
    {
     "name": "stdout",
     "output_type": "stream",
     "text": [
      "Epochs: 10, Learning Rate: 0.0005, Batch Size: 512, Accuracy: 0.7576\n"
     ]
    },
    {
     "name": "stderr",
     "output_type": "stream",
     "text": [
      "c:\\Users\\yhlim\\AppData\\Local\\Programs\\Python\\Python311\\Lib\\site-packages\\keras\\src\\layers\\core\\dense.py:87: UserWarning: Do not pass an `input_shape`/`input_dim` argument to a layer. When using Sequential models, prefer using an `Input(shape)` object as the first layer in the model instead.\n",
      "  super().__init__(activity_regularizer=activity_regularizer, **kwargs)\n"
     ]
    },
    {
     "name": "stdout",
     "output_type": "stream",
     "text": [
      "Epochs: 10, Learning Rate: 0.0005, Batch Size: 1024, Accuracy: 0.1515\n"
     ]
    },
    {
     "name": "stderr",
     "output_type": "stream",
     "text": [
      "c:\\Users\\yhlim\\AppData\\Local\\Programs\\Python\\Python311\\Lib\\site-packages\\keras\\src\\layers\\core\\dense.py:87: UserWarning: Do not pass an `input_shape`/`input_dim` argument to a layer. When using Sequential models, prefer using an `Input(shape)` object as the first layer in the model instead.\n",
      "  super().__init__(activity_regularizer=activity_regularizer, **kwargs)\n"
     ]
    },
    {
     "name": "stdout",
     "output_type": "stream",
     "text": [
      "Epochs: 10, Learning Rate: 0.001, Batch Size: 256, Accuracy: 0.8030\n"
     ]
    },
    {
     "name": "stderr",
     "output_type": "stream",
     "text": [
      "c:\\Users\\yhlim\\AppData\\Local\\Programs\\Python\\Python311\\Lib\\site-packages\\keras\\src\\layers\\core\\dense.py:87: UserWarning: Do not pass an `input_shape`/`input_dim` argument to a layer. When using Sequential models, prefer using an `Input(shape)` object as the first layer in the model instead.\n",
      "  super().__init__(activity_regularizer=activity_regularizer, **kwargs)\n"
     ]
    },
    {
     "name": "stdout",
     "output_type": "stream",
     "text": [
      "Epochs: 10, Learning Rate: 0.001, Batch Size: 512, Accuracy: 0.8030\n"
     ]
    },
    {
     "name": "stderr",
     "output_type": "stream",
     "text": [
      "c:\\Users\\yhlim\\AppData\\Local\\Programs\\Python\\Python311\\Lib\\site-packages\\keras\\src\\layers\\core\\dense.py:87: UserWarning: Do not pass an `input_shape`/`input_dim` argument to a layer. When using Sequential models, prefer using an `Input(shape)` object as the first layer in the model instead.\n",
      "  super().__init__(activity_regularizer=activity_regularizer, **kwargs)\n"
     ]
    },
    {
     "name": "stdout",
     "output_type": "stream",
     "text": [
      "Epochs: 10, Learning Rate: 0.001, Batch Size: 1024, Accuracy: 0.8030\n"
     ]
    },
    {
     "name": "stderr",
     "output_type": "stream",
     "text": [
      "c:\\Users\\yhlim\\AppData\\Local\\Programs\\Python\\Python311\\Lib\\site-packages\\keras\\src\\layers\\core\\dense.py:87: UserWarning: Do not pass an `input_shape`/`input_dim` argument to a layer. When using Sequential models, prefer using an `Input(shape)` object as the first layer in the model instead.\n",
      "  super().__init__(activity_regularizer=activity_regularizer, **kwargs)\n"
     ]
    },
    {
     "name": "stdout",
     "output_type": "stream",
     "text": [
      "Epochs: 10, Learning Rate: 0.005, Batch Size: 256, Accuracy: 0.8030\n"
     ]
    },
    {
     "name": "stderr",
     "output_type": "stream",
     "text": [
      "c:\\Users\\yhlim\\AppData\\Local\\Programs\\Python\\Python311\\Lib\\site-packages\\keras\\src\\layers\\core\\dense.py:87: UserWarning: Do not pass an `input_shape`/`input_dim` argument to a layer. When using Sequential models, prefer using an `Input(shape)` object as the first layer in the model instead.\n",
      "  super().__init__(activity_regularizer=activity_regularizer, **kwargs)\n"
     ]
    },
    {
     "name": "stdout",
     "output_type": "stream",
     "text": [
      "Epochs: 10, Learning Rate: 0.005, Batch Size: 512, Accuracy: 0.8030\n"
     ]
    },
    {
     "name": "stderr",
     "output_type": "stream",
     "text": [
      "c:\\Users\\yhlim\\AppData\\Local\\Programs\\Python\\Python311\\Lib\\site-packages\\keras\\src\\layers\\core\\dense.py:87: UserWarning: Do not pass an `input_shape`/`input_dim` argument to a layer. When using Sequential models, prefer using an `Input(shape)` object as the first layer in the model instead.\n",
      "  super().__init__(activity_regularizer=activity_regularizer, **kwargs)\n"
     ]
    },
    {
     "name": "stdout",
     "output_type": "stream",
     "text": [
      "Epochs: 10, Learning Rate: 0.005, Batch Size: 1024, Accuracy: 0.8030\n"
     ]
    },
    {
     "name": "stderr",
     "output_type": "stream",
     "text": [
      "c:\\Users\\yhlim\\AppData\\Local\\Programs\\Python\\Python311\\Lib\\site-packages\\keras\\src\\layers\\core\\dense.py:87: UserWarning: Do not pass an `input_shape`/`input_dim` argument to a layer. When using Sequential models, prefer using an `Input(shape)` object as the first layer in the model instead.\n",
      "  super().__init__(activity_regularizer=activity_regularizer, **kwargs)\n"
     ]
    },
    {
     "name": "stdout",
     "output_type": "stream",
     "text": [
      "Epochs: 10, Learning Rate: 0.01, Batch Size: 256, Accuracy: 0.8030\n"
     ]
    },
    {
     "name": "stderr",
     "output_type": "stream",
     "text": [
      "c:\\Users\\yhlim\\AppData\\Local\\Programs\\Python\\Python311\\Lib\\site-packages\\keras\\src\\layers\\core\\dense.py:87: UserWarning: Do not pass an `input_shape`/`input_dim` argument to a layer. When using Sequential models, prefer using an `Input(shape)` object as the first layer in the model instead.\n",
      "  super().__init__(activity_regularizer=activity_regularizer, **kwargs)\n"
     ]
    },
    {
     "name": "stdout",
     "output_type": "stream",
     "text": [
      "Epochs: 10, Learning Rate: 0.01, Batch Size: 512, Accuracy: 0.0455\n"
     ]
    },
    {
     "name": "stderr",
     "output_type": "stream",
     "text": [
      "c:\\Users\\yhlim\\AppData\\Local\\Programs\\Python\\Python311\\Lib\\site-packages\\keras\\src\\layers\\core\\dense.py:87: UserWarning: Do not pass an `input_shape`/`input_dim` argument to a layer. When using Sequential models, prefer using an `Input(shape)` object as the first layer in the model instead.\n",
      "  super().__init__(activity_regularizer=activity_regularizer, **kwargs)\n"
     ]
    },
    {
     "name": "stdout",
     "output_type": "stream",
     "text": [
      "Epochs: 10, Learning Rate: 0.01, Batch Size: 1024, Accuracy: 0.8030\n"
     ]
    },
    {
     "name": "stderr",
     "output_type": "stream",
     "text": [
      "c:\\Users\\yhlim\\AppData\\Local\\Programs\\Python\\Python311\\Lib\\site-packages\\keras\\src\\layers\\core\\dense.py:87: UserWarning: Do not pass an `input_shape`/`input_dim` argument to a layer. When using Sequential models, prefer using an `Input(shape)` object as the first layer in the model instead.\n",
      "  super().__init__(activity_regularizer=activity_regularizer, **kwargs)\n"
     ]
    },
    {
     "name": "stdout",
     "output_type": "stream",
     "text": [
      "Epochs: 15, Learning Rate: 0.0001, Batch Size: 256, Accuracy: 0.3030\n"
     ]
    },
    {
     "name": "stderr",
     "output_type": "stream",
     "text": [
      "c:\\Users\\yhlim\\AppData\\Local\\Programs\\Python\\Python311\\Lib\\site-packages\\keras\\src\\layers\\core\\dense.py:87: UserWarning: Do not pass an `input_shape`/`input_dim` argument to a layer. When using Sequential models, prefer using an `Input(shape)` object as the first layer in the model instead.\n",
      "  super().__init__(activity_regularizer=activity_regularizer, **kwargs)\n"
     ]
    },
    {
     "name": "stdout",
     "output_type": "stream",
     "text": [
      "Epochs: 15, Learning Rate: 0.0001, Batch Size: 512, Accuracy: 0.1515\n"
     ]
    },
    {
     "name": "stderr",
     "output_type": "stream",
     "text": [
      "c:\\Users\\yhlim\\AppData\\Local\\Programs\\Python\\Python311\\Lib\\site-packages\\keras\\src\\layers\\core\\dense.py:87: UserWarning: Do not pass an `input_shape`/`input_dim` argument to a layer. When using Sequential models, prefer using an `Input(shape)` object as the first layer in the model instead.\n",
      "  super().__init__(activity_regularizer=activity_regularizer, **kwargs)\n"
     ]
    },
    {
     "name": "stdout",
     "output_type": "stream",
     "text": [
      "Epochs: 15, Learning Rate: 0.0001, Batch Size: 1024, Accuracy: 0.7879\n"
     ]
    },
    {
     "name": "stderr",
     "output_type": "stream",
     "text": [
      "c:\\Users\\yhlim\\AppData\\Local\\Programs\\Python\\Python311\\Lib\\site-packages\\keras\\src\\layers\\core\\dense.py:87: UserWarning: Do not pass an `input_shape`/`input_dim` argument to a layer. When using Sequential models, prefer using an `Input(shape)` object as the first layer in the model instead.\n",
      "  super().__init__(activity_regularizer=activity_regularizer, **kwargs)\n"
     ]
    },
    {
     "name": "stdout",
     "output_type": "stream",
     "text": [
      "Epochs: 15, Learning Rate: 0.0005, Batch Size: 256, Accuracy: 0.1515\n"
     ]
    },
    {
     "name": "stderr",
     "output_type": "stream",
     "text": [
      "c:\\Users\\yhlim\\AppData\\Local\\Programs\\Python\\Python311\\Lib\\site-packages\\keras\\src\\layers\\core\\dense.py:87: UserWarning: Do not pass an `input_shape`/`input_dim` argument to a layer. When using Sequential models, prefer using an `Input(shape)` object as the first layer in the model instead.\n",
      "  super().__init__(activity_regularizer=activity_regularizer, **kwargs)\n"
     ]
    },
    {
     "name": "stdout",
     "output_type": "stream",
     "text": [
      "Epochs: 15, Learning Rate: 0.0005, Batch Size: 512, Accuracy: 0.8030\n"
     ]
    },
    {
     "name": "stderr",
     "output_type": "stream",
     "text": [
      "c:\\Users\\yhlim\\AppData\\Local\\Programs\\Python\\Python311\\Lib\\site-packages\\keras\\src\\layers\\core\\dense.py:87: UserWarning: Do not pass an `input_shape`/`input_dim` argument to a layer. When using Sequential models, prefer using an `Input(shape)` object as the first layer in the model instead.\n",
      "  super().__init__(activity_regularizer=activity_regularizer, **kwargs)\n"
     ]
    },
    {
     "name": "stdout",
     "output_type": "stream",
     "text": [
      "Epochs: 15, Learning Rate: 0.0005, Batch Size: 1024, Accuracy: 0.3485\n"
     ]
    },
    {
     "name": "stderr",
     "output_type": "stream",
     "text": [
      "c:\\Users\\yhlim\\AppData\\Local\\Programs\\Python\\Python311\\Lib\\site-packages\\keras\\src\\layers\\core\\dense.py:87: UserWarning: Do not pass an `input_shape`/`input_dim` argument to a layer. When using Sequential models, prefer using an `Input(shape)` object as the first layer in the model instead.\n",
      "  super().__init__(activity_regularizer=activity_regularizer, **kwargs)\n"
     ]
    },
    {
     "name": "stdout",
     "output_type": "stream",
     "text": [
      "Epochs: 15, Learning Rate: 0.001, Batch Size: 256, Accuracy: 0.5909\n"
     ]
    },
    {
     "name": "stderr",
     "output_type": "stream",
     "text": [
      "c:\\Users\\yhlim\\AppData\\Local\\Programs\\Python\\Python311\\Lib\\site-packages\\keras\\src\\layers\\core\\dense.py:87: UserWarning: Do not pass an `input_shape`/`input_dim` argument to a layer. When using Sequential models, prefer using an `Input(shape)` object as the first layer in the model instead.\n",
      "  super().__init__(activity_regularizer=activity_regularizer, **kwargs)\n"
     ]
    },
    {
     "name": "stdout",
     "output_type": "stream",
     "text": [
      "Epochs: 15, Learning Rate: 0.001, Batch Size: 512, Accuracy: 0.5000\n"
     ]
    },
    {
     "name": "stderr",
     "output_type": "stream",
     "text": [
      "c:\\Users\\yhlim\\AppData\\Local\\Programs\\Python\\Python311\\Lib\\site-packages\\keras\\src\\layers\\core\\dense.py:87: UserWarning: Do not pass an `input_shape`/`input_dim` argument to a layer. When using Sequential models, prefer using an `Input(shape)` object as the first layer in the model instead.\n",
      "  super().__init__(activity_regularizer=activity_regularizer, **kwargs)\n"
     ]
    },
    {
     "name": "stdout",
     "output_type": "stream",
     "text": [
      "Epochs: 15, Learning Rate: 0.001, Batch Size: 1024, Accuracy: 0.8030\n"
     ]
    },
    {
     "name": "stderr",
     "output_type": "stream",
     "text": [
      "c:\\Users\\yhlim\\AppData\\Local\\Programs\\Python\\Python311\\Lib\\site-packages\\keras\\src\\layers\\core\\dense.py:87: UserWarning: Do not pass an `input_shape`/`input_dim` argument to a layer. When using Sequential models, prefer using an `Input(shape)` object as the first layer in the model instead.\n",
      "  super().__init__(activity_regularizer=activity_regularizer, **kwargs)\n"
     ]
    },
    {
     "name": "stdout",
     "output_type": "stream",
     "text": [
      "Epochs: 15, Learning Rate: 0.005, Batch Size: 256, Accuracy: 0.8030\n"
     ]
    },
    {
     "name": "stderr",
     "output_type": "stream",
     "text": [
      "c:\\Users\\yhlim\\AppData\\Local\\Programs\\Python\\Python311\\Lib\\site-packages\\keras\\src\\layers\\core\\dense.py:87: UserWarning: Do not pass an `input_shape`/`input_dim` argument to a layer. When using Sequential models, prefer using an `Input(shape)` object as the first layer in the model instead.\n",
      "  super().__init__(activity_regularizer=activity_regularizer, **kwargs)\n"
     ]
    },
    {
     "name": "stdout",
     "output_type": "stream",
     "text": [
      "Epochs: 15, Learning Rate: 0.005, Batch Size: 512, Accuracy: 0.8030\n"
     ]
    },
    {
     "name": "stderr",
     "output_type": "stream",
     "text": [
      "c:\\Users\\yhlim\\AppData\\Local\\Programs\\Python\\Python311\\Lib\\site-packages\\keras\\src\\layers\\core\\dense.py:87: UserWarning: Do not pass an `input_shape`/`input_dim` argument to a layer. When using Sequential models, prefer using an `Input(shape)` object as the first layer in the model instead.\n",
      "  super().__init__(activity_regularizer=activity_regularizer, **kwargs)\n"
     ]
    },
    {
     "name": "stdout",
     "output_type": "stream",
     "text": [
      "Epochs: 15, Learning Rate: 0.005, Batch Size: 1024, Accuracy: 0.0455\n"
     ]
    },
    {
     "name": "stderr",
     "output_type": "stream",
     "text": [
      "c:\\Users\\yhlim\\AppData\\Local\\Programs\\Python\\Python311\\Lib\\site-packages\\keras\\src\\layers\\core\\dense.py:87: UserWarning: Do not pass an `input_shape`/`input_dim` argument to a layer. When using Sequential models, prefer using an `Input(shape)` object as the first layer in the model instead.\n",
      "  super().__init__(activity_regularizer=activity_regularizer, **kwargs)\n"
     ]
    },
    {
     "name": "stdout",
     "output_type": "stream",
     "text": [
      "Epochs: 15, Learning Rate: 0.01, Batch Size: 256, Accuracy: 0.8030\n"
     ]
    },
    {
     "name": "stderr",
     "output_type": "stream",
     "text": [
      "c:\\Users\\yhlim\\AppData\\Local\\Programs\\Python\\Python311\\Lib\\site-packages\\keras\\src\\layers\\core\\dense.py:87: UserWarning: Do not pass an `input_shape`/`input_dim` argument to a layer. When using Sequential models, prefer using an `Input(shape)` object as the first layer in the model instead.\n",
      "  super().__init__(activity_regularizer=activity_regularizer, **kwargs)\n"
     ]
    },
    {
     "name": "stdout",
     "output_type": "stream",
     "text": [
      "Epochs: 15, Learning Rate: 0.01, Batch Size: 512, Accuracy: 0.8030\n"
     ]
    },
    {
     "name": "stderr",
     "output_type": "stream",
     "text": [
      "c:\\Users\\yhlim\\AppData\\Local\\Programs\\Python\\Python311\\Lib\\site-packages\\keras\\src\\layers\\core\\dense.py:87: UserWarning: Do not pass an `input_shape`/`input_dim` argument to a layer. When using Sequential models, prefer using an `Input(shape)` object as the first layer in the model instead.\n",
      "  super().__init__(activity_regularizer=activity_regularizer, **kwargs)\n"
     ]
    },
    {
     "name": "stdout",
     "output_type": "stream",
     "text": [
      "Epochs: 15, Learning Rate: 0.01, Batch Size: 1024, Accuracy: 0.8030\n"
     ]
    },
    {
     "name": "stderr",
     "output_type": "stream",
     "text": [
      "c:\\Users\\yhlim\\AppData\\Local\\Programs\\Python\\Python311\\Lib\\site-packages\\keras\\src\\layers\\core\\dense.py:87: UserWarning: Do not pass an `input_shape`/`input_dim` argument to a layer. When using Sequential models, prefer using an `Input(shape)` object as the first layer in the model instead.\n",
      "  super().__init__(activity_regularizer=activity_regularizer, **kwargs)\n"
     ]
    },
    {
     "name": "stdout",
     "output_type": "stream",
     "text": [
      "Epochs: 20, Learning Rate: 0.0001, Batch Size: 256, Accuracy: 0.8030\n"
     ]
    },
    {
     "name": "stderr",
     "output_type": "stream",
     "text": [
      "c:\\Users\\yhlim\\AppData\\Local\\Programs\\Python\\Python311\\Lib\\site-packages\\keras\\src\\layers\\core\\dense.py:87: UserWarning: Do not pass an `input_shape`/`input_dim` argument to a layer. When using Sequential models, prefer using an `Input(shape)` object as the first layer in the model instead.\n",
      "  super().__init__(activity_regularizer=activity_regularizer, **kwargs)\n"
     ]
    },
    {
     "name": "stdout",
     "output_type": "stream",
     "text": [
      "Epochs: 20, Learning Rate: 0.0001, Batch Size: 512, Accuracy: 0.5455\n"
     ]
    },
    {
     "name": "stderr",
     "output_type": "stream",
     "text": [
      "c:\\Users\\yhlim\\AppData\\Local\\Programs\\Python\\Python311\\Lib\\site-packages\\keras\\src\\layers\\core\\dense.py:87: UserWarning: Do not pass an `input_shape`/`input_dim` argument to a layer. When using Sequential models, prefer using an `Input(shape)` object as the first layer in the model instead.\n",
      "  super().__init__(activity_regularizer=activity_regularizer, **kwargs)\n"
     ]
    },
    {
     "name": "stdout",
     "output_type": "stream",
     "text": [
      "Epochs: 20, Learning Rate: 0.0001, Batch Size: 1024, Accuracy: 0.1515\n"
     ]
    },
    {
     "name": "stderr",
     "output_type": "stream",
     "text": [
      "c:\\Users\\yhlim\\AppData\\Local\\Programs\\Python\\Python311\\Lib\\site-packages\\keras\\src\\layers\\core\\dense.py:87: UserWarning: Do not pass an `input_shape`/`input_dim` argument to a layer. When using Sequential models, prefer using an `Input(shape)` object as the first layer in the model instead.\n",
      "  super().__init__(activity_regularizer=activity_regularizer, **kwargs)\n"
     ]
    },
    {
     "name": "stdout",
     "output_type": "stream",
     "text": [
      "Epochs: 20, Learning Rate: 0.0005, Batch Size: 256, Accuracy: 0.8030\n"
     ]
    },
    {
     "name": "stderr",
     "output_type": "stream",
     "text": [
      "c:\\Users\\yhlim\\AppData\\Local\\Programs\\Python\\Python311\\Lib\\site-packages\\keras\\src\\layers\\core\\dense.py:87: UserWarning: Do not pass an `input_shape`/`input_dim` argument to a layer. When using Sequential models, prefer using an `Input(shape)` object as the first layer in the model instead.\n",
      "  super().__init__(activity_regularizer=activity_regularizer, **kwargs)\n"
     ]
    },
    {
     "name": "stdout",
     "output_type": "stream",
     "text": [
      "Epochs: 20, Learning Rate: 0.0005, Batch Size: 512, Accuracy: 0.1515\n"
     ]
    },
    {
     "name": "stderr",
     "output_type": "stream",
     "text": [
      "c:\\Users\\yhlim\\AppData\\Local\\Programs\\Python\\Python311\\Lib\\site-packages\\keras\\src\\layers\\core\\dense.py:87: UserWarning: Do not pass an `input_shape`/`input_dim` argument to a layer. When using Sequential models, prefer using an `Input(shape)` object as the first layer in the model instead.\n",
      "  super().__init__(activity_regularizer=activity_regularizer, **kwargs)\n"
     ]
    },
    {
     "name": "stdout",
     "output_type": "stream",
     "text": [
      "Epochs: 20, Learning Rate: 0.0005, Batch Size: 1024, Accuracy: 0.7121\n"
     ]
    },
    {
     "name": "stderr",
     "output_type": "stream",
     "text": [
      "c:\\Users\\yhlim\\AppData\\Local\\Programs\\Python\\Python311\\Lib\\site-packages\\keras\\src\\layers\\core\\dense.py:87: UserWarning: Do not pass an `input_shape`/`input_dim` argument to a layer. When using Sequential models, prefer using an `Input(shape)` object as the first layer in the model instead.\n",
      "  super().__init__(activity_regularizer=activity_regularizer, **kwargs)\n"
     ]
    },
    {
     "name": "stdout",
     "output_type": "stream",
     "text": [
      "Epochs: 20, Learning Rate: 0.001, Batch Size: 256, Accuracy: 0.1515\n"
     ]
    },
    {
     "name": "stderr",
     "output_type": "stream",
     "text": [
      "c:\\Users\\yhlim\\AppData\\Local\\Programs\\Python\\Python311\\Lib\\site-packages\\keras\\src\\layers\\core\\dense.py:87: UserWarning: Do not pass an `input_shape`/`input_dim` argument to a layer. When using Sequential models, prefer using an `Input(shape)` object as the first layer in the model instead.\n",
      "  super().__init__(activity_regularizer=activity_regularizer, **kwargs)\n"
     ]
    },
    {
     "name": "stdout",
     "output_type": "stream",
     "text": [
      "Epochs: 20, Learning Rate: 0.001, Batch Size: 512, Accuracy: 0.0455\n"
     ]
    },
    {
     "name": "stderr",
     "output_type": "stream",
     "text": [
      "c:\\Users\\yhlim\\AppData\\Local\\Programs\\Python\\Python311\\Lib\\site-packages\\keras\\src\\layers\\core\\dense.py:87: UserWarning: Do not pass an `input_shape`/`input_dim` argument to a layer. When using Sequential models, prefer using an `Input(shape)` object as the first layer in the model instead.\n",
      "  super().__init__(activity_regularizer=activity_regularizer, **kwargs)\n"
     ]
    },
    {
     "name": "stdout",
     "output_type": "stream",
     "text": [
      "Epochs: 20, Learning Rate: 0.001, Batch Size: 1024, Accuracy: 0.8030\n"
     ]
    },
    {
     "name": "stderr",
     "output_type": "stream",
     "text": [
      "c:\\Users\\yhlim\\AppData\\Local\\Programs\\Python\\Python311\\Lib\\site-packages\\keras\\src\\layers\\core\\dense.py:87: UserWarning: Do not pass an `input_shape`/`input_dim` argument to a layer. When using Sequential models, prefer using an `Input(shape)` object as the first layer in the model instead.\n",
      "  super().__init__(activity_regularizer=activity_regularizer, **kwargs)\n"
     ]
    },
    {
     "name": "stdout",
     "output_type": "stream",
     "text": [
      "Epochs: 20, Learning Rate: 0.005, Batch Size: 256, Accuracy: 0.8030\n"
     ]
    },
    {
     "name": "stderr",
     "output_type": "stream",
     "text": [
      "c:\\Users\\yhlim\\AppData\\Local\\Programs\\Python\\Python311\\Lib\\site-packages\\keras\\src\\layers\\core\\dense.py:87: UserWarning: Do not pass an `input_shape`/`input_dim` argument to a layer. When using Sequential models, prefer using an `Input(shape)` object as the first layer in the model instead.\n",
      "  super().__init__(activity_regularizer=activity_regularizer, **kwargs)\n"
     ]
    },
    {
     "name": "stdout",
     "output_type": "stream",
     "text": [
      "Epochs: 20, Learning Rate: 0.005, Batch Size: 512, Accuracy: 0.0455\n"
     ]
    },
    {
     "name": "stderr",
     "output_type": "stream",
     "text": [
      "c:\\Users\\yhlim\\AppData\\Local\\Programs\\Python\\Python311\\Lib\\site-packages\\keras\\src\\layers\\core\\dense.py:87: UserWarning: Do not pass an `input_shape`/`input_dim` argument to a layer. When using Sequential models, prefer using an `Input(shape)` object as the first layer in the model instead.\n",
      "  super().__init__(activity_regularizer=activity_regularizer, **kwargs)\n"
     ]
    },
    {
     "name": "stdout",
     "output_type": "stream",
     "text": [
      "Epochs: 20, Learning Rate: 0.005, Batch Size: 1024, Accuracy: 0.8030\n"
     ]
    },
    {
     "name": "stderr",
     "output_type": "stream",
     "text": [
      "c:\\Users\\yhlim\\AppData\\Local\\Programs\\Python\\Python311\\Lib\\site-packages\\keras\\src\\layers\\core\\dense.py:87: UserWarning: Do not pass an `input_shape`/`input_dim` argument to a layer. When using Sequential models, prefer using an `Input(shape)` object as the first layer in the model instead.\n",
      "  super().__init__(activity_regularizer=activity_regularizer, **kwargs)\n"
     ]
    },
    {
     "name": "stdout",
     "output_type": "stream",
     "text": [
      "Epochs: 20, Learning Rate: 0.01, Batch Size: 256, Accuracy: 0.8030\n"
     ]
    },
    {
     "name": "stderr",
     "output_type": "stream",
     "text": [
      "c:\\Users\\yhlim\\AppData\\Local\\Programs\\Python\\Python311\\Lib\\site-packages\\keras\\src\\layers\\core\\dense.py:87: UserWarning: Do not pass an `input_shape`/`input_dim` argument to a layer. When using Sequential models, prefer using an `Input(shape)` object as the first layer in the model instead.\n",
      "  super().__init__(activity_regularizer=activity_regularizer, **kwargs)\n"
     ]
    },
    {
     "name": "stdout",
     "output_type": "stream",
     "text": [
      "Epochs: 20, Learning Rate: 0.01, Batch Size: 512, Accuracy: 0.8030\n"
     ]
    },
    {
     "name": "stderr",
     "output_type": "stream",
     "text": [
      "c:\\Users\\yhlim\\AppData\\Local\\Programs\\Python\\Python311\\Lib\\site-packages\\keras\\src\\layers\\core\\dense.py:87: UserWarning: Do not pass an `input_shape`/`input_dim` argument to a layer. When using Sequential models, prefer using an `Input(shape)` object as the first layer in the model instead.\n",
      "  super().__init__(activity_regularizer=activity_regularizer, **kwargs)\n"
     ]
    },
    {
     "name": "stdout",
     "output_type": "stream",
     "text": [
      "Epochs: 20, Learning Rate: 0.01, Batch Size: 1024, Accuracy: 0.8030\n"
     ]
    },
    {
     "name": "stderr",
     "output_type": "stream",
     "text": [
      "c:\\Users\\yhlim\\AppData\\Local\\Programs\\Python\\Python311\\Lib\\site-packages\\keras\\src\\layers\\core\\dense.py:87: UserWarning: Do not pass an `input_shape`/`input_dim` argument to a layer. When using Sequential models, prefer using an `Input(shape)` object as the first layer in the model instead.\n",
      "  super().__init__(activity_regularizer=activity_regularizer, **kwargs)\n"
     ]
    },
    {
     "name": "stdout",
     "output_type": "stream",
     "text": [
      "Epochs: 25, Learning Rate: 0.0001, Batch Size: 256, Accuracy: 0.1515\n"
     ]
    },
    {
     "name": "stderr",
     "output_type": "stream",
     "text": [
      "c:\\Users\\yhlim\\AppData\\Local\\Programs\\Python\\Python311\\Lib\\site-packages\\keras\\src\\layers\\core\\dense.py:87: UserWarning: Do not pass an `input_shape`/`input_dim` argument to a layer. When using Sequential models, prefer using an `Input(shape)` object as the first layer in the model instead.\n",
      "  super().__init__(activity_regularizer=activity_regularizer, **kwargs)\n"
     ]
    },
    {
     "name": "stdout",
     "output_type": "stream",
     "text": [
      "Epochs: 25, Learning Rate: 0.0001, Batch Size: 512, Accuracy: 0.8030\n"
     ]
    },
    {
     "name": "stderr",
     "output_type": "stream",
     "text": [
      "c:\\Users\\yhlim\\AppData\\Local\\Programs\\Python\\Python311\\Lib\\site-packages\\keras\\src\\layers\\core\\dense.py:87: UserWarning: Do not pass an `input_shape`/`input_dim` argument to a layer. When using Sequential models, prefer using an `Input(shape)` object as the first layer in the model instead.\n",
      "  super().__init__(activity_regularizer=activity_regularizer, **kwargs)\n"
     ]
    },
    {
     "name": "stdout",
     "output_type": "stream",
     "text": [
      "Epochs: 25, Learning Rate: 0.0001, Batch Size: 1024, Accuracy: 0.8030\n"
     ]
    },
    {
     "name": "stderr",
     "output_type": "stream",
     "text": [
      "c:\\Users\\yhlim\\AppData\\Local\\Programs\\Python\\Python311\\Lib\\site-packages\\keras\\src\\layers\\core\\dense.py:87: UserWarning: Do not pass an `input_shape`/`input_dim` argument to a layer. When using Sequential models, prefer using an `Input(shape)` object as the first layer in the model instead.\n",
      "  super().__init__(activity_regularizer=activity_regularizer, **kwargs)\n"
     ]
    },
    {
     "name": "stdout",
     "output_type": "stream",
     "text": [
      "Epochs: 25, Learning Rate: 0.0005, Batch Size: 256, Accuracy: 0.8030\n"
     ]
    },
    {
     "name": "stderr",
     "output_type": "stream",
     "text": [
      "c:\\Users\\yhlim\\AppData\\Local\\Programs\\Python\\Python311\\Lib\\site-packages\\keras\\src\\layers\\core\\dense.py:87: UserWarning: Do not pass an `input_shape`/`input_dim` argument to a layer. When using Sequential models, prefer using an `Input(shape)` object as the first layer in the model instead.\n",
      "  super().__init__(activity_regularizer=activity_regularizer, **kwargs)\n"
     ]
    },
    {
     "name": "stdout",
     "output_type": "stream",
     "text": [
      "Epochs: 25, Learning Rate: 0.0005, Batch Size: 512, Accuracy: 0.7121\n"
     ]
    },
    {
     "name": "stderr",
     "output_type": "stream",
     "text": [
      "c:\\Users\\yhlim\\AppData\\Local\\Programs\\Python\\Python311\\Lib\\site-packages\\keras\\src\\layers\\core\\dense.py:87: UserWarning: Do not pass an `input_shape`/`input_dim` argument to a layer. When using Sequential models, prefer using an `Input(shape)` object as the first layer in the model instead.\n",
      "  super().__init__(activity_regularizer=activity_regularizer, **kwargs)\n"
     ]
    },
    {
     "name": "stdout",
     "output_type": "stream",
     "text": [
      "Epochs: 25, Learning Rate: 0.0005, Batch Size: 1024, Accuracy: 0.8030\n"
     ]
    },
    {
     "name": "stderr",
     "output_type": "stream",
     "text": [
      "c:\\Users\\yhlim\\AppData\\Local\\Programs\\Python\\Python311\\Lib\\site-packages\\keras\\src\\layers\\core\\dense.py:87: UserWarning: Do not pass an `input_shape`/`input_dim` argument to a layer. When using Sequential models, prefer using an `Input(shape)` object as the first layer in the model instead.\n",
      "  super().__init__(activity_regularizer=activity_regularizer, **kwargs)\n"
     ]
    },
    {
     "name": "stdout",
     "output_type": "stream",
     "text": [
      "Epochs: 25, Learning Rate: 0.001, Batch Size: 256, Accuracy: 0.8030\n"
     ]
    },
    {
     "name": "stderr",
     "output_type": "stream",
     "text": [
      "c:\\Users\\yhlim\\AppData\\Local\\Programs\\Python\\Python311\\Lib\\site-packages\\keras\\src\\layers\\core\\dense.py:87: UserWarning: Do not pass an `input_shape`/`input_dim` argument to a layer. When using Sequential models, prefer using an `Input(shape)` object as the first layer in the model instead.\n",
      "  super().__init__(activity_regularizer=activity_regularizer, **kwargs)\n"
     ]
    },
    {
     "name": "stdout",
     "output_type": "stream",
     "text": [
      "Epochs: 25, Learning Rate: 0.001, Batch Size: 512, Accuracy: 0.0758\n"
     ]
    },
    {
     "name": "stderr",
     "output_type": "stream",
     "text": [
      "c:\\Users\\yhlim\\AppData\\Local\\Programs\\Python\\Python311\\Lib\\site-packages\\keras\\src\\layers\\core\\dense.py:87: UserWarning: Do not pass an `input_shape`/`input_dim` argument to a layer. When using Sequential models, prefer using an `Input(shape)` object as the first layer in the model instead.\n",
      "  super().__init__(activity_regularizer=activity_regularizer, **kwargs)\n"
     ]
    },
    {
     "name": "stdout",
     "output_type": "stream",
     "text": [
      "Epochs: 25, Learning Rate: 0.001, Batch Size: 1024, Accuracy: 0.1515\n"
     ]
    },
    {
     "name": "stderr",
     "output_type": "stream",
     "text": [
      "c:\\Users\\yhlim\\AppData\\Local\\Programs\\Python\\Python311\\Lib\\site-packages\\keras\\src\\layers\\core\\dense.py:87: UserWarning: Do not pass an `input_shape`/`input_dim` argument to a layer. When using Sequential models, prefer using an `Input(shape)` object as the first layer in the model instead.\n",
      "  super().__init__(activity_regularizer=activity_regularizer, **kwargs)\n"
     ]
    },
    {
     "name": "stdout",
     "output_type": "stream",
     "text": [
      "Epochs: 25, Learning Rate: 0.005, Batch Size: 256, Accuracy: 0.7576\n"
     ]
    },
    {
     "name": "stderr",
     "output_type": "stream",
     "text": [
      "c:\\Users\\yhlim\\AppData\\Local\\Programs\\Python\\Python311\\Lib\\site-packages\\keras\\src\\layers\\core\\dense.py:87: UserWarning: Do not pass an `input_shape`/`input_dim` argument to a layer. When using Sequential models, prefer using an `Input(shape)` object as the first layer in the model instead.\n",
      "  super().__init__(activity_regularizer=activity_regularizer, **kwargs)\n"
     ]
    },
    {
     "name": "stdout",
     "output_type": "stream",
     "text": [
      "Epochs: 25, Learning Rate: 0.005, Batch Size: 512, Accuracy: 0.1364\n"
     ]
    },
    {
     "name": "stderr",
     "output_type": "stream",
     "text": [
      "c:\\Users\\yhlim\\AppData\\Local\\Programs\\Python\\Python311\\Lib\\site-packages\\keras\\src\\layers\\core\\dense.py:87: UserWarning: Do not pass an `input_shape`/`input_dim` argument to a layer. When using Sequential models, prefer using an `Input(shape)` object as the first layer in the model instead.\n",
      "  super().__init__(activity_regularizer=activity_regularizer, **kwargs)\n"
     ]
    },
    {
     "name": "stdout",
     "output_type": "stream",
     "text": [
      "Epochs: 25, Learning Rate: 0.005, Batch Size: 1024, Accuracy: 0.7879\n"
     ]
    },
    {
     "name": "stderr",
     "output_type": "stream",
     "text": [
      "c:\\Users\\yhlim\\AppData\\Local\\Programs\\Python\\Python311\\Lib\\site-packages\\keras\\src\\layers\\core\\dense.py:87: UserWarning: Do not pass an `input_shape`/`input_dim` argument to a layer. When using Sequential models, prefer using an `Input(shape)` object as the first layer in the model instead.\n",
      "  super().__init__(activity_regularizer=activity_regularizer, **kwargs)\n"
     ]
    },
    {
     "name": "stdout",
     "output_type": "stream",
     "text": [
      "Epochs: 25, Learning Rate: 0.01, Batch Size: 256, Accuracy: 0.8030\n"
     ]
    },
    {
     "name": "stderr",
     "output_type": "stream",
     "text": [
      "c:\\Users\\yhlim\\AppData\\Local\\Programs\\Python\\Python311\\Lib\\site-packages\\keras\\src\\layers\\core\\dense.py:87: UserWarning: Do not pass an `input_shape`/`input_dim` argument to a layer. When using Sequential models, prefer using an `Input(shape)` object as the first layer in the model instead.\n",
      "  super().__init__(activity_regularizer=activity_regularizer, **kwargs)\n"
     ]
    },
    {
     "name": "stdout",
     "output_type": "stream",
     "text": [
      "Epochs: 25, Learning Rate: 0.01, Batch Size: 512, Accuracy: 0.7879\n"
     ]
    },
    {
     "name": "stderr",
     "output_type": "stream",
     "text": [
      "c:\\Users\\yhlim\\AppData\\Local\\Programs\\Python\\Python311\\Lib\\site-packages\\keras\\src\\layers\\core\\dense.py:87: UserWarning: Do not pass an `input_shape`/`input_dim` argument to a layer. When using Sequential models, prefer using an `Input(shape)` object as the first layer in the model instead.\n",
      "  super().__init__(activity_regularizer=activity_regularizer, **kwargs)\n"
     ]
    },
    {
     "name": "stdout",
     "output_type": "stream",
     "text": [
      "Epochs: 25, Learning Rate: 0.01, Batch Size: 1024, Accuracy: 0.8030\n",
      "Best Score: 0.8030\n",
      "Best Hyperparameters: {'epochs': 5, 'learning_rate': 0.0001, 'batch_size': 512}\n"
     ]
    }
   ],
   "source": [
    "# Define the model creation function with specific learning rate\n",
    "def create_model(learning_rate=0.01):\n",
    "    model = Sequential()\n",
    "    model.add(Dense(64, input_dim=X_train.shape[1], activation='relu'))  # Adjust input_dim to match feature count\n",
    "    model.add(Dense(32, activation='relu'))\n",
    "    model.add(Dense(16, activation='relu'))\n",
    "    model.add(Dense(3, activation='softmax'))  # Output layer for 3 classes\n",
    "    model.compile(optimizer=Adam(learning_rate=learning_rate), loss='categorical_crossentropy', metrics=['accuracy'])\n",
    "    return model\n",
    "\n",
    "# Define hyperparameter space\n",
    "epochs = [5, 10, 15, 20, 25]\n",
    "learning_rates = [0.0001, 0.0005, 0.001, 0.005, 0.01]\n",
    "batch_sizes = [256, 512, 1024, 2048, 4096]\n",
    "\n",
    "# Initialize best score and parameters\n",
    "best_score = 0\n",
    "best_params = {'epochs': None, 'learning_rate': None, 'batch_size': None}\n",
    "\n",
    "# Hyperparameter tuning loop\n",
    "for epoch in epochs:\n",
    "    for lr in learning_rates:\n",
    "        for batch_size in batch_sizes:\n",
    "            # Ensure the batch size is not larger than the number of training samples\n",
    "            if batch_size > X_train.shape[0]:\n",
    "                continue\n",
    "            model = create_model(learning_rate=lr)\n",
    "            try:\n",
    "                model.fit(X_train, y_train_encoded, epochs=epoch, batch_size=batch_size, verbose=0)\n",
    "                loss, accuracy = model.evaluate(X_test, y_test_encoded, verbose=0)\n",
    "                print(f\"Epochs: {epoch}, Learning Rate: {lr}, Batch Size: {batch_size}, Accuracy: {accuracy:.4f}\")\n",
    "\n",
    "                # Update best score and parameters if current model is better\n",
    "                if accuracy > best_score:\n",
    "                    best_score = accuracy\n",
    "                    best_params = {\n",
    "                        'epochs': epoch,\n",
    "                        'learning_rate': lr,\n",
    "                        'batch_size': batch_size\n",
    "                    }\n",
    "            except Exception as e:\n",
    "                print(f\"An error occurred: {e}\")\n",
    "\n",
    "# Output the best score and hyperparameters\n",
    "print(f\"Best Score: {best_score:.4f}\")\n",
    "print(f\"Best Hyperparameters: {best_params}\")"
   ]
  },
  {
   "cell_type": "code",
   "execution_count": 115,
   "id": "ea7f871c",
   "metadata": {},
   "outputs": [
    {
     "name": "stderr",
     "output_type": "stream",
     "text": [
      "c:\\Users\\yhlim\\AppData\\Local\\Programs\\Python\\Python311\\Lib\\site-packages\\keras\\src\\layers\\core\\dense.py:87: UserWarning: Do not pass an `input_shape`/`input_dim` argument to a layer. When using Sequential models, prefer using an `Input(shape)` object as the first layer in the model instead.\n",
      "  super().__init__(activity_regularizer=activity_regularizer, **kwargs)\n"
     ]
    },
    {
     "name": "stdout",
     "output_type": "stream",
     "text": [
      "Epoch 1/5\n",
      "\u001b[1m3/3\u001b[0m \u001b[32m━━━━━━━━━━━━━━━━━━━━\u001b[0m\u001b[37m\u001b[0m \u001b[1m1s\u001b[0m 5ms/step - accuracy: 0.1322 - loss: 143.1924\n",
      "Epoch 2/5\n",
      "\u001b[1m3/3\u001b[0m \u001b[32m━━━━━━━━━━━━━━━━━━━━\u001b[0m\u001b[37m\u001b[0m \u001b[1m0s\u001b[0m 3ms/step - accuracy: 0.1322 - loss: 135.6552 \n",
      "Epoch 3/5\n",
      "\u001b[1m3/3\u001b[0m \u001b[32m━━━━━━━━━━━━━━━━━━━━\u001b[0m\u001b[37m\u001b[0m \u001b[1m0s\u001b[0m 3ms/step - accuracy: 0.1322 - loss: 128.0666 \n",
      "Epoch 4/5\n",
      "\u001b[1m3/3\u001b[0m \u001b[32m━━━━━━━━━━━━━━━━━━━━\u001b[0m\u001b[37m\u001b[0m \u001b[1m0s\u001b[0m 3ms/step - accuracy: 0.1322 - loss: 120.4732 \n",
      "Epoch 5/5\n",
      "\u001b[1m3/3\u001b[0m \u001b[32m━━━━━━━━━━━━━━━━━━━━\u001b[0m\u001b[37m\u001b[0m \u001b[1m0s\u001b[0m 3ms/step - accuracy: 0.1322 - loss: 112.9043 \n",
      "\u001b[1m3/3\u001b[0m \u001b[32m━━━━━━━━━━━━━━━━━━━━\u001b[0m\u001b[37m\u001b[0m \u001b[1m0s\u001b[0m 22ms/step\n",
      "Accuracy: 0.04545454680919647\n",
      "AUC-ROC: 0.5\n",
      "Precision: 0.015151515151515152\n",
      "Recall: 0.3333333333333333\n"
     ]
    },
    {
     "name": "stderr",
     "output_type": "stream",
     "text": [
      "c:\\Users\\yhlim\\AppData\\Local\\Programs\\Python\\Python311\\Lib\\site-packages\\sklearn\\metrics\\_classification.py:1517: UndefinedMetricWarning: Precision is ill-defined and being set to 0.0 in labels with no predicted samples. Use `zero_division` parameter to control this behavior.\n",
      "  _warn_prf(average, modifier, f\"{metric.capitalize()} is\", len(result))\n"
     ]
    }
   ],
   "source": [
    "# Pluggin the best combination of hyper parameter to the model\n",
    "best_epochs = 5\n",
    "best_learning_rate = 0.0001\n",
    "best_batch_size = 512\n",
    "\n",
    "# Create and compile the model\n",
    "model = Sequential()\n",
    "model.add(Dense(64, input_dim=X_train.shape[1], activation='relu'))\n",
    "model.add(Dense(32, activation='relu'))\n",
    "model.add(Dense(16, activation='relu'))\n",
    "model.add(Dense(3, activation='softmax'))\n",
    "model.compile(optimizer=Adam(learning_rate=best_learning_rate), loss='categorical_crossentropy', metrics=['accuracy'])\n",
    "\n",
    "# Train the model\n",
    "model.fit(X_train, y_train_encoded, epochs=best_epochs, batch_size=best_batch_size, verbose=1)\n",
    "\n",
    "# Predict probabilities\n",
    "y_pred_prob = model.predict(X_test)\n",
    "\n",
    "# Evaluate the model\n",
    "accuracy = model.evaluate(X_test, y_test_encoded, verbose=0)\n",
    "\n",
    "# For AUC-ROC\n",
    "auc_roc = roc_auc_score(y_test_encoded, y_pred_prob, multi_class=\"ovr\")\n",
    "\n",
    "# For precision and recall, convert probabilities to class predictions\n",
    "y_pred_class = np.argmax(y_pred_prob, axis=1)\n",
    "y_true_class = np.argmax(y_test_encoded, axis=1)\n",
    "\n",
    "# Calculating Precision and Recall for each class\n",
    "precision = precision_score(y_true_class, y_pred_class, average='macro')\n",
    "recall = recall_score(y_true_class, y_pred_class, average='macro')\n",
    "\n",
    "# Printing the metrics\n",
    "print(f\"Accuracy: {accuracy[1]}\")\n",
    "print(f\"AUC-ROC: {auc_roc}\")\n",
    "print(f\"Precision: {precision}\")\n",
    "print(f\"Recall: {recall}\")\n"
   ]
  },
  {
   "cell_type": "markdown",
   "id": "d1a2d8c8",
   "metadata": {},
   "source": [
    "### Dropout Regularization"
   ]
  },
  {
   "cell_type": "code",
   "execution_count": 116,
   "id": "3667e601",
   "metadata": {},
   "outputs": [],
   "source": [
    "set_seeds()"
   ]
  },
  {
   "cell_type": "markdown",
   "id": "14120278",
   "metadata": {},
   "source": [
    "we try the number of dropout rate as 0.1 ,0.2, 0.3, 0.4, and 0.5. And 0.5 yield the best result so we will use this number as a dropout rate."
   ]
  },
  {
   "cell_type": "code",
   "execution_count": 117,
   "id": "433ccbbd",
   "metadata": {},
   "outputs": [
    {
     "name": "stderr",
     "output_type": "stream",
     "text": [
      "c:\\Users\\yhlim\\AppData\\Local\\Programs\\Python\\Python311\\Lib\\site-packages\\keras\\src\\layers\\core\\dense.py:87: UserWarning: Do not pass an `input_shape`/`input_dim` argument to a layer. When using Sequential models, prefer using an `Input(shape)` object as the first layer in the model instead.\n",
      "  super().__init__(activity_regularizer=activity_regularizer, **kwargs)\n"
     ]
    },
    {
     "name": "stdout",
     "output_type": "stream",
     "text": [
      "Epoch 1/5\n",
      "\u001b[1m3/3\u001b[0m \u001b[32m━━━━━━━━━━━━━━━━━━━━\u001b[0m\u001b[37m\u001b[0m \u001b[1m2s\u001b[0m 6ms/step - accuracy: 0.3317 - loss: 384.7299\n",
      "Epoch 2/5\n",
      "\u001b[1m3/3\u001b[0m \u001b[32m━━━━━━━━━━━━━━━━━━━━\u001b[0m\u001b[37m\u001b[0m \u001b[1m0s\u001b[0m 4ms/step - accuracy: 0.3627 - loss: 345.2651 \n",
      "Epoch 3/5\n",
      "\u001b[1m3/3\u001b[0m \u001b[32m━━━━━━━━━━━━━━━━━━━━\u001b[0m\u001b[37m\u001b[0m \u001b[1m0s\u001b[0m 4ms/step - accuracy: 0.3654 - loss: 361.5672 \n",
      "Epoch 4/5\n",
      "\u001b[1m3/3\u001b[0m \u001b[32m━━━━━━━━━━━━━━━━━━━━\u001b[0m\u001b[37m\u001b[0m \u001b[1m0s\u001b[0m 3ms/step - accuracy: 0.3319 - loss: 344.6287 \n",
      "Epoch 5/5\n",
      "\u001b[1m3/3\u001b[0m \u001b[32m━━━━━━━━━━━━━━━━━━━━\u001b[0m\u001b[37m\u001b[0m \u001b[1m0s\u001b[0m 4ms/step - accuracy: 0.3489 - loss: 367.5711 \n",
      "\u001b[1m3/3\u001b[0m \u001b[32m━━━━━━━━━━━━━━━━━━━━\u001b[0m\u001b[37m\u001b[0m \u001b[1m0s\u001b[0m 23ms/step\n",
      "Accuracy: 0.04545454680919647\n",
      "AUC-ROC: 0.452849386811651\n",
      "Precision: 0.015151515151515152\n",
      "Recall: 0.3333333333333333\n"
     ]
    },
    {
     "name": "stderr",
     "output_type": "stream",
     "text": [
      "c:\\Users\\yhlim\\AppData\\Local\\Programs\\Python\\Python311\\Lib\\site-packages\\sklearn\\metrics\\_classification.py:1517: UndefinedMetricWarning: Precision is ill-defined and being set to 0.0 in labels with no predicted samples. Use `zero_division` parameter to control this behavior.\n",
      "  _warn_prf(average, modifier, f\"{metric.capitalize()} is\", len(result))\n"
     ]
    }
   ],
   "source": [
    "\n",
    "# Create and compile the model\n",
    "model = Sequential()\n",
    "model.add(Dense(64, input_dim=X_train.shape[1], activation='relu'))\n",
    "model.add(Dropout(rate=0.5, seed=100))\n",
    "model.add(Dense(32, activation='relu'))\n",
    "model.add(Dropout(rate=0.5, seed=100))\n",
    "model.add(Dense(16, activation='relu'))\n",
    "model.add(Dropout(rate=0.5, seed=100))\n",
    "model.add(Dense(3, activation='softmax'))\n",
    "model.compile(optimizer=Adam(learning_rate=best_learning_rate), loss='categorical_crossentropy', metrics=['accuracy'])\n",
    "\n",
    "# Train the model\n",
    "model.fit(X_train, y_train_encoded, epochs=best_epochs, batch_size=best_batch_size, verbose=1)\n",
    "\n",
    "# Predict probabilities\n",
    "y_pred_prob = model.predict(X_test)\n",
    "\n",
    "# Evaluate the model\n",
    "accuracy = model.evaluate(X_test, y_test_encoded, verbose=0)\n",
    "\n",
    "# For AUC-ROC\n",
    "auc_roc = roc_auc_score(y_test_encoded, y_pred_prob, multi_class=\"ovr\")\n",
    "\n",
    "# For precision and recall, convert probabilities to class predictions\n",
    "y_pred_class = np.argmax(y_pred_prob, axis=1)\n",
    "y_true_class = np.argmax(y_test_encoded, axis=1)\n",
    "\n",
    "# Calculating Precision and Recall for each class\n",
    "precision = precision_score(y_true_class, y_pred_class, average='macro')\n",
    "recall = recall_score(y_true_class, y_pred_class, average='macro')\n",
    "\n",
    "# Printing the metrics\n",
    "print(f\"Accuracy: {accuracy[1]}\")\n",
    "print(f\"AUC-ROC: {auc_roc}\")\n",
    "print(f\"Precision: {precision}\")\n",
    "print(f\"Recall: {recall}\")"
   ]
  },
  {
   "cell_type": "markdown",
   "id": "1d807895",
   "metadata": {},
   "source": [
    "### L1 Regularization"
   ]
  },
  {
   "cell_type": "code",
   "execution_count": 118,
   "id": "64ad07e6",
   "metadata": {},
   "outputs": [],
   "source": [
    "set_seeds()"
   ]
  },
  {
   "cell_type": "code",
   "execution_count": 119,
   "id": "c5c0325b",
   "metadata": {},
   "outputs": [
    {
     "name": "stdout",
     "output_type": "stream",
     "text": [
      "Epoch 1/5\n"
     ]
    },
    {
     "name": "stderr",
     "output_type": "stream",
     "text": [
      "c:\\Users\\yhlim\\AppData\\Local\\Programs\\Python\\Python311\\Lib\\site-packages\\keras\\src\\layers\\core\\dense.py:87: UserWarning: Do not pass an `input_shape`/`input_dim` argument to a layer. When using Sequential models, prefer using an `Input(shape)` object as the first layer in the model instead.\n",
      "  super().__init__(activity_regularizer=activity_regularizer, **kwargs)\n"
     ]
    },
    {
     "name": "stdout",
     "output_type": "stream",
     "text": [
      "\u001b[1m3/3\u001b[0m \u001b[32m━━━━━━━━━━━━━━━━━━━━\u001b[0m\u001b[37m\u001b[0m \u001b[1m2s\u001b[0m 5ms/step - accuracy: 0.1322 - loss: 706.6448\n",
      "Epoch 2/5\n",
      "\u001b[1m3/3\u001b[0m \u001b[32m━━━━━━━━━━━━━━━━━━━━\u001b[0m\u001b[37m\u001b[0m \u001b[1m0s\u001b[0m 4ms/step - accuracy: 0.1322 - loss: 692.7672  \n",
      "Epoch 3/5\n",
      "\u001b[1m3/3\u001b[0m \u001b[32m━━━━━━━━━━━━━━━━━━━━\u001b[0m\u001b[37m\u001b[0m \u001b[1m0s\u001b[0m 5ms/step - accuracy: 0.1327 - loss: 678.8763 \n",
      "Epoch 4/5\n",
      "\u001b[1m3/3\u001b[0m \u001b[32m━━━━━━━━━━━━━━━━━━━━\u001b[0m\u001b[37m\u001b[0m \u001b[1m0s\u001b[0m 4ms/step - accuracy: 0.4242 - loss: 667.1868 \n",
      "Epoch 5/5\n",
      "\u001b[1m3/3\u001b[0m \u001b[32m━━━━━━━━━━━━━━━━━━━━\u001b[0m\u001b[37m\u001b[0m \u001b[1m0s\u001b[0m 3ms/step - accuracy: 0.7088 - loss: 664.9839 \n",
      "\u001b[1m3/3\u001b[0m \u001b[32m━━━━━━━━━━━━━━━━━━━━\u001b[0m\u001b[37m\u001b[0m \u001b[1m0s\u001b[0m 28ms/step\n",
      "Accuracy: 0.8030303120613098\n",
      "AUC-ROC: 0.5202821869488536\n",
      "Precision: 0.2676767676767677\n",
      "Recall: 0.3333333333333333\n"
     ]
    },
    {
     "name": "stderr",
     "output_type": "stream",
     "text": [
      "c:\\Users\\yhlim\\AppData\\Local\\Programs\\Python\\Python311\\Lib\\site-packages\\sklearn\\metrics\\_classification.py:1517: UndefinedMetricWarning: Precision is ill-defined and being set to 0.0 in labels with no predicted samples. Use `zero_division` parameter to control this behavior.\n",
      "  _warn_prf(average, modifier, f\"{metric.capitalize()} is\", len(result))\n"
     ]
    }
   ],
   "source": [
    "# Create and compile the model\n",
    "model = Sequential()\n",
    "model.add(Dense(64, input_dim=X_train.shape[1], activation='relu', activity_regularizer=l1(0.0001)))\n",
    "model.add(Dense(32, activation='relu', activity_regularizer=l1(0.0001)))\n",
    "model.add(Dense(16, activation='relu', activity_regularizer=l1(0.0001)))\n",
    "model.add(Dense(3, activation='softmax', activity_regularizer=l1(0.0001)))\n",
    "model.compile(optimizer=Adam(learning_rate=best_learning_rate), loss='categorical_crossentropy', metrics=['accuracy'])\n",
    "\n",
    "# Train the model\n",
    "model.fit(X_train, y_train_encoded, epochs=best_epochs, batch_size=best_batch_size, verbose=1)\n",
    "\n",
    "# Predict probabilities\n",
    "y_pred_prob = model.predict(X_test)\n",
    "\n",
    "# Evaluate the model\n",
    "accuracy = model.evaluate(X_test, y_test_encoded, verbose=0)\n",
    "\n",
    "# For AUC-ROC\n",
    "auc_roc = roc_auc_score(y_test_encoded, y_pred_prob, multi_class=\"ovr\")\n",
    "\n",
    "# For precision and recall, convert probabilities to class predictions\n",
    "y_pred_class = np.argmax(y_pred_prob, axis=1)\n",
    "y_true_class = np.argmax(y_test_encoded, axis=1)\n",
    "\n",
    "# Calculating Precision and Recall for each class\n",
    "precision = precision_score(y_true_class, y_pred_class, average='macro')\n",
    "recall = recall_score(y_true_class, y_pred_class, average='macro')\n",
    "\n",
    "# Printing the metrics\n",
    "print(f\"Accuracy: {accuracy[1]}\")\n",
    "print(f\"AUC-ROC: {auc_roc}\")\n",
    "print(f\"Precision: {precision}\")\n",
    "print(f\"Recall: {recall}\")\n"
   ]
  },
  {
   "cell_type": "markdown",
   "id": "69b78438",
   "metadata": {},
   "source": [
    "### L2 Regularization"
   ]
  },
  {
   "cell_type": "code",
   "execution_count": 120,
   "id": "57583da4",
   "metadata": {},
   "outputs": [
    {
     "name": "stdout",
     "output_type": "stream",
     "text": [
      "Epoch 1/5\n"
     ]
    },
    {
     "name": "stderr",
     "output_type": "stream",
     "text": [
      "c:\\Users\\yhlim\\AppData\\Local\\Programs\\Python\\Python311\\Lib\\site-packages\\keras\\src\\layers\\core\\dense.py:87: UserWarning: Do not pass an `input_shape`/`input_dim` argument to a layer. When using Sequential models, prefer using an `Input(shape)` object as the first layer in the model instead.\n",
      "  super().__init__(activity_regularizer=activity_regularizer, **kwargs)\n"
     ]
    },
    {
     "name": "stdout",
     "output_type": "stream",
     "text": [
      "\u001b[1m3/3\u001b[0m \u001b[32m━━━━━━━━━━━━━━━━━━━━\u001b[0m\u001b[37m\u001b[0m \u001b[1m2s\u001b[0m 4ms/step - accuracy: 0.7175 - loss: 1261839.2500\n",
      "Epoch 2/5\n",
      "\u001b[1m3/3\u001b[0m \u001b[32m━━━━━━━━━━━━━━━━━━━━\u001b[0m\u001b[37m\u001b[0m \u001b[1m0s\u001b[0m 3ms/step - accuracy: 0.7175 - loss: 1249346.0000 \n",
      "Epoch 3/5\n",
      "\u001b[1m3/3\u001b[0m \u001b[32m━━━━━━━━━━━━━━━━━━━━\u001b[0m\u001b[37m\u001b[0m \u001b[1m0s\u001b[0m 4ms/step - accuracy: 0.7175 - loss: 1237384.1250 \n",
      "Epoch 4/5\n",
      "\u001b[1m3/3\u001b[0m \u001b[32m━━━━━━━━━━━━━━━━━━━━\u001b[0m\u001b[37m\u001b[0m \u001b[1m0s\u001b[0m 3ms/step - accuracy: 0.7175 - loss: 1225647.2500 \n",
      "Epoch 5/5\n",
      "\u001b[1m3/3\u001b[0m \u001b[32m━━━━━━━━━━━━━━━━━━━━\u001b[0m\u001b[37m\u001b[0m \u001b[1m0s\u001b[0m 4ms/step - accuracy: 0.7175 - loss: 1214094.5000 \n",
      "\u001b[1m3/3\u001b[0m \u001b[32m━━━━━━━━━━━━━━━━━━━━\u001b[0m\u001b[37m\u001b[0m \u001b[1m0s\u001b[0m 27ms/step\n",
      "Accuracy: 0.8030303120613098\n",
      "AUC-ROC: 0.5571428571428572\n",
      "Precision: 0.2676767676767677\n",
      "Recall: 0.3333333333333333\n"
     ]
    },
    {
     "name": "stderr",
     "output_type": "stream",
     "text": [
      "c:\\Users\\yhlim\\AppData\\Local\\Programs\\Python\\Python311\\Lib\\site-packages\\sklearn\\metrics\\_classification.py:1517: UndefinedMetricWarning: Precision is ill-defined and being set to 0.0 in labels with no predicted samples. Use `zero_division` parameter to control this behavior.\n",
      "  _warn_prf(average, modifier, f\"{metric.capitalize()} is\", len(result))\n"
     ]
    }
   ],
   "source": [
    "# Create and compile the model\n",
    "model = Sequential()\n",
    "model.add(Dense(64, input_dim=X_train.shape[1], activation='relu', activity_regularizer=l2(0.0005)))\n",
    "model.add(Dense(32, activation='relu', activity_regularizer=l2(0.0005)))\n",
    "model.add(Dense(16, activation='relu', activity_regularizer=l2(0.0005)))\n",
    "model.add(Dense(3, activation='softmax', activity_regularizer=l2(0.0005)))\n",
    "model.compile(optimizer=Adam(learning_rate=best_learning_rate), loss='categorical_crossentropy', metrics=['accuracy'])\n",
    "\n",
    "# Train the model\n",
    "model.fit(X_train, y_train_encoded, epochs=best_epochs, batch_size=best_batch_size, verbose=1)\n",
    "\n",
    "# Predict probabilities\n",
    "y_pred_prob = model.predict(X_test)\n",
    "\n",
    "# Evaluate the model\n",
    "accuracy = model.evaluate(X_test, y_test_encoded, verbose=0)\n",
    "\n",
    "# For AUC-ROC\n",
    "auc_roc = roc_auc_score(y_test_encoded, y_pred_prob, multi_class=\"ovr\")\n",
    "\n",
    "# For precision and recall, convert probabilities to class predictions\n",
    "y_pred_class = np.argmax(y_pred_prob, axis=1)\n",
    "y_true_class = np.argmax(y_test_encoded, axis=1)\n",
    "\n",
    "# Calculating Precision and Recall for each class\n",
    "precision = precision_score(y_true_class, y_pred_class, average='macro')\n",
    "recall = recall_score(y_true_class, y_pred_class, average='macro')\n",
    "\n",
    "# Printing the metrics\n",
    "print(f\"Accuracy: {accuracy[1]}\")\n",
    "print(f\"AUC-ROC: {auc_roc}\")\n",
    "print(f\"Precision: {precision}\")\n",
    "print(f\"Recall: {recall}\")\n"
   ]
  },
  {
   "cell_type": "markdown",
   "id": "2f5526a5",
   "metadata": {},
   "source": [
    "##  3.) `XgBoost`"
   ]
  },
  {
   "cell_type": "markdown",
   "id": "397cb512",
   "metadata": {},
   "source": [
    "Tuning hyper parameter using `GridSearchCV`"
   ]
  },
  {
   "cell_type": "code",
   "execution_count": 121,
   "id": "8ef7f024",
   "metadata": {},
   "outputs": [
    {
     "name": "stdout",
     "output_type": "stream",
     "text": [
      "Fitting 3 folds for each of 125 candidates, totalling 375 fits\n"
     ]
    },
    {
     "data": {
      "text/html": [
       "<div>\n",
       "<style scoped>\n",
       "    .dataframe tbody tr th:only-of-type {\n",
       "        vertical-align: middle;\n",
       "    }\n",
       "\n",
       "    .dataframe tbody tr th {\n",
       "        vertical-align: top;\n",
       "    }\n",
       "\n",
       "    .dataframe thead th {\n",
       "        text-align: right;\n",
       "    }\n",
       "</style>\n",
       "<table border=\"1\" class=\"dataframe\">\n",
       "  <thead>\n",
       "    <tr style=\"text-align: right;\">\n",
       "      <th></th>\n",
       "      <th>params</th>\n",
       "      <th>mean_test_accuracy</th>\n",
       "      <th>mean_test_f1</th>\n",
       "      <th>mean_test_roc_auc</th>\n",
       "    </tr>\n",
       "  </thead>\n",
       "  <tbody>\n",
       "    <tr>\n",
       "      <th>0</th>\n",
       "      <td>{'eta': 0.01, 'max_depth': 3, 'n_estimators': 50}</td>\n",
       "      <td>0.716214</td>\n",
       "      <td>0.281479</td>\n",
       "      <td>0.604866</td>\n",
       "    </tr>\n",
       "    <tr>\n",
       "      <th>1</th>\n",
       "      <td>{'eta': 0.01, 'max_depth': 3, 'n_estimators': ...</td>\n",
       "      <td>0.716214</td>\n",
       "      <td>0.284551</td>\n",
       "      <td>0.606221</td>\n",
       "    </tr>\n",
       "    <tr>\n",
       "      <th>2</th>\n",
       "      <td>{'eta': 0.01, 'max_depth': 3, 'n_estimators': ...</td>\n",
       "      <td>0.708272</td>\n",
       "      <td>0.297580</td>\n",
       "      <td>0.605433</td>\n",
       "    </tr>\n",
       "    <tr>\n",
       "      <th>3</th>\n",
       "      <td>{'eta': 0.01, 'max_depth': 3, 'n_estimators': ...</td>\n",
       "      <td>0.706679</td>\n",
       "      <td>0.299170</td>\n",
       "      <td>0.608874</td>\n",
       "    </tr>\n",
       "    <tr>\n",
       "      <th>4</th>\n",
       "      <td>{'eta': 0.01, 'max_depth': 3, 'n_estimators': ...</td>\n",
       "      <td>0.704296</td>\n",
       "      <td>0.298240</td>\n",
       "      <td>0.607660</td>\n",
       "    </tr>\n",
       "    <tr>\n",
       "      <th>...</th>\n",
       "      <td>...</td>\n",
       "      <td>...</td>\n",
       "      <td>...</td>\n",
       "      <td>...</td>\n",
       "    </tr>\n",
       "    <tr>\n",
       "      <th>120</th>\n",
       "      <td>{'eta': 0.2, 'max_depth': 7, 'n_estimators': 50}</td>\n",
       "      <td>0.617652</td>\n",
       "      <td>0.328437</td>\n",
       "      <td>0.575986</td>\n",
       "    </tr>\n",
       "    <tr>\n",
       "      <th>121</th>\n",
       "      <td>{'eta': 0.2, 'max_depth': 7, 'n_estimators': 100}</td>\n",
       "      <td>0.620832</td>\n",
       "      <td>0.341824</td>\n",
       "      <td>0.569869</td>\n",
       "    </tr>\n",
       "    <tr>\n",
       "      <th>122</th>\n",
       "      <td>{'eta': 0.2, 'max_depth': 7, 'n_estimators': 150}</td>\n",
       "      <td>0.622417</td>\n",
       "      <td>0.351491</td>\n",
       "      <td>0.568779</td>\n",
       "    </tr>\n",
       "    <tr>\n",
       "      <th>123</th>\n",
       "      <td>{'eta': 0.2, 'max_depth': 7, 'n_estimators': 200}</td>\n",
       "      <td>0.620830</td>\n",
       "      <td>0.349871</td>\n",
       "      <td>0.568782</td>\n",
       "    </tr>\n",
       "    <tr>\n",
       "      <th>124</th>\n",
       "      <td>{'eta': 0.2, 'max_depth': 7, 'n_estimators': 250}</td>\n",
       "      <td>0.616059</td>\n",
       "      <td>0.344659</td>\n",
       "      <td>0.567511</td>\n",
       "    </tr>\n",
       "  </tbody>\n",
       "</table>\n",
       "<p>125 rows × 4 columns</p>\n",
       "</div>"
      ],
      "text/plain": [
       "                                                params  mean_test_accuracy  \\\n",
       "0    {'eta': 0.01, 'max_depth': 3, 'n_estimators': 50}            0.716214   \n",
       "1    {'eta': 0.01, 'max_depth': 3, 'n_estimators': ...            0.716214   \n",
       "2    {'eta': 0.01, 'max_depth': 3, 'n_estimators': ...            0.708272   \n",
       "3    {'eta': 0.01, 'max_depth': 3, 'n_estimators': ...            0.706679   \n",
       "4    {'eta': 0.01, 'max_depth': 3, 'n_estimators': ...            0.704296   \n",
       "..                                                 ...                 ...   \n",
       "120   {'eta': 0.2, 'max_depth': 7, 'n_estimators': 50}            0.617652   \n",
       "121  {'eta': 0.2, 'max_depth': 7, 'n_estimators': 100}            0.620832   \n",
       "122  {'eta': 0.2, 'max_depth': 7, 'n_estimators': 150}            0.622417   \n",
       "123  {'eta': 0.2, 'max_depth': 7, 'n_estimators': 200}            0.620830   \n",
       "124  {'eta': 0.2, 'max_depth': 7, 'n_estimators': 250}            0.616059   \n",
       "\n",
       "     mean_test_f1  mean_test_roc_auc  \n",
       "0        0.281479           0.604866  \n",
       "1        0.284551           0.606221  \n",
       "2        0.297580           0.605433  \n",
       "3        0.299170           0.608874  \n",
       "4        0.298240           0.607660  \n",
       "..            ...                ...  \n",
       "120      0.328437           0.575986  \n",
       "121      0.341824           0.569869  \n",
       "122      0.351491           0.568779  \n",
       "123      0.349871           0.568782  \n",
       "124      0.344659           0.567511  \n",
       "\n",
       "[125 rows x 4 columns]"
      ]
     },
     "execution_count": 121,
     "metadata": {},
     "output_type": "execute_result"
    }
   ],
   "source": [
    "# Define the parameter grid\n",
    "param_grid = {\n",
    "    'eta': [0.01, 0.05, 0.1, 0.15, 0.2],\n",
    "    'n_estimators': [50, 100, 150, 200, 250],\n",
    "    'max_depth': [3, 4, 5, 6, 7]\n",
    "}\n",
    "\n",
    "# Create the scorers dictionary\n",
    "scoring = {\n",
    "    'accuracy': make_scorer(accuracy_score),\n",
    "    'f1': make_scorer(f1_score, average='macro'),  # Ensure multiclass handling\n",
    "    'roc_auc': 'roc_auc_ovr'  # Use One-vs-Rest approach for multiclass AUC\n",
    "}\n",
    "\n",
    "# Create the XGBoost model\n",
    "xgb_model = XGBClassifier(eval_metric='logloss')\n",
    "\n",
    "# Create the GridSearchCV object\n",
    "grid_search = GridSearchCV(estimator=xgb_model, param_grid=param_grid, scoring=scoring, refit='roc_auc', cv=3, verbose=1)\n",
    "\n",
    "# Fit the GridSearchCV object to the data\n",
    "grid_search.fit(data_features, data_label)\n",
    "\n",
    "# View the results\n",
    "cv_results = pd.DataFrame(grid_search.cv_results_)\n",
    "cv_results[['params', 'mean_test_accuracy', 'mean_test_f1', 'mean_test_roc_auc']]"
   ]
  },
  {
   "cell_type": "code",
   "execution_count": 122,
   "id": "6afe6bf9",
   "metadata": {},
   "outputs": [
    {
     "name": "stdout",
     "output_type": "stream",
     "text": [
      "Best parameters: {'eta': 0.2, 'max_depth': 5, 'n_estimators': 100}\n",
      "Accuracy: 0.641483880744024\n",
      "F1 Score: 0.3699886514437248\n",
      "ROC-AUC Score: 0.5755091789427426\n",
      "Best Average Normalized Score: 0.9458785673357332\n"
     ]
    }
   ],
   "source": [
    "# Normalize the scores to make them comparable\n",
    "cv_results['normalized_accuracy'] = cv_results['mean_test_accuracy'] / cv_results['mean_test_accuracy'].max()\n",
    "cv_results['normalized_f1'] = cv_results['mean_test_f1'] / cv_results['mean_test_f1'].max()\n",
    "cv_results['normalized_roc_auc'] = cv_results['mean_test_roc_auc'] / cv_results['mean_test_roc_auc'].max()\n",
    "\n",
    "# Calculate the average of the normalized scores\n",
    "cv_results['average_score'] = cv_results[['normalized_accuracy', 'normalized_f1', 'normalized_roc_auc']].mean(axis=1)\n",
    "\n",
    "# Sort the DataFrame based on the average score in descending order\n",
    "cv_results_sorted = cv_results.sort_values('average_score', ascending=False)\n",
    "\n",
    "# The first row will now be the combination of parameters with the highest average normalized score\n",
    "best_combination_row = cv_results_sorted.iloc[0]\n",
    "\n",
    "# Extract the best scores and parameters\n",
    "best_parameters = best_combination_row['params']\n",
    "best_accuracy = best_combination_row['mean_test_accuracy']\n",
    "best_f1 = best_combination_row['mean_test_f1']\n",
    "best_roc_auc = best_combination_row['mean_test_roc_auc']\n",
    "best_average_score = best_combination_row['average_score']\n",
    "\n",
    "print(f\"Best parameters: {best_parameters}\")\n",
    "print(f\"Accuracy: {best_accuracy}\")\n",
    "print(f\"F1 Score: {best_f1}\")\n",
    "print(f\"ROC-AUC Score: {best_roc_auc}\")\n",
    "print(f\"Best Average Normalized Score: {best_average_score}\")"
   ]
  },
  {
   "cell_type": "code",
   "execution_count": 123,
   "id": "a72ed59a",
   "metadata": {},
   "outputs": [
    {
     "name": "stdout",
     "output_type": "stream",
     "text": [
      "                         AUC-ROC  Precision    Recall  Accuracy\n",
      "Average Scoring Metrics  0.46501   0.263441  0.308176  0.742424\n"
     ]
    }
   ],
   "source": [
    "# Best Parameter from GridSearch\n",
    "best_eta = 0.05\n",
    "best_n_estimators = 100\n",
    "best_max_depth = 3\n",
    "\n",
    "# Lists to store metrics\n",
    "lst_auc_roc_gridsearch = []\n",
    "lst_precision_gridsearch = []\n",
    "lst_recall_gridsearch = []\n",
    "lst_accuracy_gridsearch = []\n",
    "\n",
    "\n",
    "# Applying the best parameters found by GridSearchCV\n",
    "model = XGBClassifier(eval_metric='logloss', eta=best_eta, n_estimators=best_n_estimators, max_depth= best_max_depth)\n",
    "model.fit(X_train, y_train)\n",
    "\n",
    "y_pred_proba = model.predict_proba(X_test)\n",
    "y_pred_xgb = model.predict(X_test)\n",
    "\n",
    "# Calculate metrics\n",
    "auc_roc = roc_auc_score(y_test, y_pred_proba, multi_class=\"ovr\")\n",
    "precision = precision_score(y_test, y_pred_xgb, average='macro')\n",
    "recall = recall_score(y_test, y_pred_xgb, average='macro')\n",
    "accuracy = accuracy_score(y_test, y_pred_xgb)\n",
    "\n",
    "lst_auc_roc_gridsearch.append(auc_roc)\n",
    "lst_precision_gridsearch.append(precision)\n",
    "lst_recall_gridsearch.append(recall)\n",
    "lst_accuracy_gridsearch.append(accuracy)\n",
    "\n",
    "# Calculating averages\n",
    "avg_auc_roc = np.mean(lst_auc_roc_gridsearch)\n",
    "avg_precision = np.mean(lst_precision_gridsearch)\n",
    "avg_recall = np.mean(lst_recall_gridsearch)\n",
    "avg_accuracy = np.mean(lst_accuracy_gridsearch)\n",
    "\n",
    "# Creating a DataFrame with the average results\n",
    "avg_results_df = pd.DataFrame({\n",
    "    'AUC-ROC': [avg_auc_roc],\n",
    "    'Precision': [avg_precision],\n",
    "    'Recall': [avg_recall],\n",
    "    'Accuracy': [avg_accuracy]\n",
    "}, index=['Average Scoring Metrics'])\n",
    "\n",
    "# Display the average results DataFrame\n",
    "print(avg_results_df)"
   ]
  },
  {
   "cell_type": "markdown",
   "id": "19e4ab11",
   "metadata": {},
   "source": [
    "# Conclusion"
   ]
  },
  {
   "cell_type": "code",
   "execution_count": 124,
   "id": "bf0491fe",
   "metadata": {},
   "outputs": [
    {
     "data": {
      "image/png": "[encoded data removed]",
      "text/plain": [
       "<Figure size 1200x600 with 1 Axes>"
      ]
     },
     "metadata": {},
     "output_type": "display_data"
    }
   ],
   "source": [
    "# Define the architectures and their metrics\n",
    "archs = ['Logistic Regression', 'Neural Network', 'Xgboost']  # Corrected the typo and quotes\n",
    "accuracies = [0.7879, 0.8030303120613098,0.742424]\n",
    "auc_roc = [0.6862,  0.5571428571428572,0.46501]\n",
    "precisions = [0.3810, 0.2676767676767677, 0.263441]\n",
    "recalls = [0.3541,  0.33333, 0.308176]\n",
    "\n",
    "\n",
    "# Create a DataFrame\n",
    "df = pd.DataFrame({'Accuracy': accuracies, 'AUC-ROC': auc_roc, 'Precision': precisions, 'Recall': recalls}, index=archs)\n",
    "\n",
    "# Plotting\n",
    "bar_width = 0.2\n",
    "index = np.arange(len(archs))\n",
    "\n",
    "plt.figure(figsize=(12, 6))\n",
    "\n",
    "bars1 = plt.bar(index, df['Accuracy'], bar_width, label='Accuracy', color='skyblue')\n",
    "bars2 = plt.bar(index + bar_width, df['AUC-ROC'], bar_width, label='AUC-ROC', color='lightgreen')\n",
    "bars3 = plt.bar(index + 2 * bar_width, df['Precision'], bar_width, label='Precision', color='lightcoral')\n",
    "bars4 = plt.bar(index + 3 * bar_width, df['Recall'], bar_width, label='Recall', color='wheat')\n",
    "\n",
    "plt.xlabel('Model')\n",
    "plt.ylabel('Scores')\n",
    "plt.title('Comparison of Score Metrics by each model')\n",
    "plt.xticks(index + 1.5 * bar_width, archs, rotation=45)\n",
    "plt.legend()\n",
    "\n",
    "# Adding numbers on top of each bar\n",
    "def add_values(bars):\n",
    "    for bar in bars:\n",
    "        height = bar.get_height()\n",
    "        plt.text(bar.get_x() + bar.get_width() / 2., 1.002 * height, f'{height:.4f}', ha='center', va='bottom')\n",
    "\n",
    "add_values(bars1)\n",
    "add_values(bars2)\n",
    "add_values(bars3)\n",
    "add_values(bars4)\n",
    "\n",
    "plt.tight_layout()\n",
    "plt.show()\n"
   ]
  },
  {
   "cell_type": "markdown",
   "id": "f39d86d5",
   "metadata": {},
   "source": [
    "### Trading"
   ]
  },
  {
   "cell_type": "code",
   "execution_count": 125,
   "id": "adebcd50",
   "metadata": {},
   "outputs": [],
   "source": [
    "df_return = pd.read_excel(r\"C:\\Users\\yhlim\\Desktop\\C0A0price for y_test.xlsx\")\n",
    "filter_weekly = pd.merge(df_final, df_return, on='Date',how='inner')\n",
    "filter_weekly = filter_weekly[['Date','IndexPrice']]\n",
    "filter_weekly.set_index('Date', inplace=True)\n",
    "filter_weekly['y_pred_log'] = y_pred_log[:len(filter_weekly)]\n",
    "filter_weekly['y_pred_class'] = y_pred_class[:len(filter_weekly)]\n",
    "filter_weekly['y_pred_xgb'] = y_pred_xgb[:len(filter_weekly)]"
   ]
  },
  {
   "cell_type": "markdown",
   "id": "46fcaa08",
   "metadata": {},
   "source": [
    "### Performance for Logistic Regression"
   ]
  },
  {
   "cell_type": "code",
   "execution_count": 126,
   "id": "257d6dce",
   "metadata": {},
   "outputs": [],
   "source": [
    "# Initialize variables\n",
    "initial_investment = 1\n",
    "investment = initial_investment\n",
    "cumulative_return = 1\n",
    "previous_price = None\n",
    "\n",
    "# Lists to track results\n",
    "returns = []\n",
    "cumulative_returns = []\n",
    "\n",
    "# Apply the strategy\n",
    "for i in range(len(filter_weekly)-1):\n",
    "    row = filter_weekly.iloc[i]\n",
    "    price = row['IndexPrice']\n",
    "    signal = row['y_pred_log']\n",
    "    \n",
    "    if i < len(filter_weekly) - 1:\n",
    "        next_price = filter_weekly['IndexPrice'].iloc[i+1]\n",
    "        if signal == 0:  # Buy\n",
    "            weekly_return = (next_price - price) / price\n",
    "            returns.append(weekly_return)\n",
    "            cumulative_return *= (1 + weekly_return)\n",
    "            investment = cumulative_return\n",
    "        elif signal == 1:  # Hold\n",
    "            returns.append(0)\n",
    "        elif signal == 2:  # Sell\n",
    "            if i < len(filter_weekly) - 1:  # Ensure there's a next week to recover\n",
    "                next_price = filter_weekly['IndexPrice'].iloc[i + 1]\n",
    "                weekly_return = (price - next_price) / next_price\n",
    "                returns.append(weekly_return)\n",
    "                cumulative_return *= (1 + weekly_return)\n",
    "                investment = cumulative_return\n",
    "            else:\n",
    "                returns.append(0)  # If no next week, no action possible\n",
    "        else:\n",
    "            raise ValueError(\"Unknown signal value\")\n",
    "\n",
    "    cumulative_returns.append(cumulative_return)\n",
    "\n",
    "filter_weekly = filter_weekly[:-1]\n",
    "filter_weekly['CumulativeReturn_Log'] = cumulative_returns"
   ]
  },
  {
   "cell_type": "markdown",
   "id": "ac66d94c",
   "metadata": {},
   "source": [
    "### Performance for Neural Network "
   ]
  },
  {
   "cell_type": "code",
   "execution_count": 127,
   "id": "d6dabbd8",
   "metadata": {},
   "outputs": [],
   "source": [
    "# Initialize variables\n",
    "initial_investment = 1\n",
    "investment = initial_investment\n",
    "cumulative_return = 1\n",
    "previous_price = None\n",
    "returns = []\n",
    "cumulative_returns = []\n",
    "\n",
    "    # Apply the strategy\n",
    "for i in range(len(filter_weekly)-1):\n",
    "    row = filter_weekly.iloc[i]\n",
    "    price = row['IndexPrice']\n",
    "    signal = row['y_pred_class']\n",
    "    \n",
    "    if i < len(filter_weekly) - 1:\n",
    "        next_price = filter_weekly['IndexPrice'].iloc[i+1]\n",
    "        if signal == 0:  # Buy\n",
    "            weekly_return = (next_price - price) / price\n",
    "            returns.append(weekly_return)\n",
    "            cumulative_return *= (1 + weekly_return)\n",
    "            investment = cumulative_return\n",
    "        elif signal == 1:  # Hold\n",
    "            returns.append(0)\n",
    "        elif signal == 2:  # Sell\n",
    "            if i < len(filter_weekly) - 1:  # Ensure there's a next week to recover\n",
    "                next_price = filter_weekly['IndexPrice'].iloc[i + 1]\n",
    "                weekly_return = (price - next_price) / next_price\n",
    "                returns.append(weekly_return)\n",
    "                cumulative_return *= (1 + weekly_return)\n",
    "                investment = cumulative_return\n",
    "            else:\n",
    "                returns.append(0)  # If no next week, no action possible\n",
    "        else:\n",
    "            raise ValueError(\"Unknown signal value\")\n",
    "\n",
    "    cumulative_returns.append(cumulative_return)\n",
    "\n",
    "# Add cumulative returns to the DataFrame\n",
    "filter_weekly = filter_weekly[:-1]\n",
    "filter_weekly['CumulativeReturn_RF'] = cumulative_returns"
   ]
  },
  {
   "cell_type": "markdown",
   "id": "0b148d41",
   "metadata": {},
   "source": [
    "### Performance for Xgboost "
   ]
  },
  {
   "cell_type": "code",
   "execution_count": 128,
   "id": "76a981eb",
   "metadata": {},
   "outputs": [],
   "source": [
    "# Initialize variables\n",
    "initial_investment = 1\n",
    "investment = initial_investment\n",
    "cumulative_return = 1\n",
    "previous_price = None\n",
    "returns = []\n",
    "cumulative_returns = []\n",
    "\n",
    "    # Apply the strategy\n",
    "for i in range(len(filter_weekly)-1):\n",
    "    row = filter_weekly.iloc[i]\n",
    "    price = row['IndexPrice']\n",
    "    signal = row['y_pred_xgb']\n",
    "    \n",
    "    if i < len(filter_weekly) - 1:\n",
    "        next_price = filter_weekly['IndexPrice'].iloc[i+1]\n",
    "        if signal == 0:  # Buy\n",
    "            weekly_return = (next_price - price) / price\n",
    "            returns.append(weekly_return)\n",
    "            cumulative_return *= (1 + weekly_return)\n",
    "            investment = cumulative_return\n",
    "        elif signal == 1:  # Hold\n",
    "            returns.append(0)\n",
    "        elif signal == 2:  # Sell\n",
    "            if i < len(filter_weekly) - 1:  # Ensure there's a next week to recover\n",
    "                next_price = filter_weekly['IndexPrice'].iloc[i + 1]\n",
    "                weekly_return = (price - next_price) / next_price\n",
    "                returns.append(weekly_return)\n",
    "                cumulative_return *= (1 + weekly_return)\n",
    "                investment = cumulative_return\n",
    "            else:\n",
    "                returns.append(0)  # If no next week, no action possible\n",
    "        else:\n",
    "            raise ValueError(\"Unknown signal value\")\n",
    "\n",
    "    cumulative_returns.append(cumulative_return)\n",
    "\n",
    "# Add cumulative returns to the DataFrame\n",
    "filter_weekly = filter_weekly[:-1]\n",
    "filter_weekly['CumulativeReturn_xgb'] = cumulative_returns\n"
   ]
  },
  {
   "cell_type": "code",
   "execution_count": 129,
   "id": "afe7a769",
   "metadata": {},
   "outputs": [],
   "source": [
    "filter_weekly['Actual'] = y_test"
   ]
  },
  {
   "cell_type": "markdown",
   "id": "ebf25d13",
   "metadata": {},
   "source": [
    "C0A0 price can be obtained by summing (weight of bonds * price of bonds in C0A0), and thus we are able to get the IndexPrice everyday from 1/3/2022 to 15/7/2024, the cumulative return one can receive by investing in the Index is invest it on 1/3/2022 and selling it on 15/72024 which gives cumulative return of 0.03513439. Alternatively, one can implement this strategy - \n",
    "1.Buy and hold for a week for the next signal if y_pred is 0 (Tighten)\n",
    "2.Hold for a week if y_pred is 1 (Hold)\n",
    "3.Sell and wait for the next signal if y_pred is 2 (Widen)"
   ]
  },
  {
   "cell_type": "markdown",
   "id": "71d5bb09",
   "metadata": {},
   "source": []
  }
 ],
 "metadata": {
  "kernelspec": {
   "display_name": "Python 3 (ipykernel)",
   "language": "python",
   "name": "python3"
  },
  "language_info": {
   "codemirror_mode": {
    "name": "ipython",
    "version": 3
   },
   "file_extension": ".py",
   "mimetype": "text/x-python",
   "name": "python",
   "nbconvert_exporter": "python",
   "pygments_lexer": "ipython3",
   "version": "3.11.5"
  }
 },
 "nbformat": 4,
 "nbformat_minor": 5
}
